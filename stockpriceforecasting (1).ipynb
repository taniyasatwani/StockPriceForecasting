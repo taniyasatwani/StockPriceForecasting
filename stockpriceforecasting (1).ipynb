{
  "nbformat": 4,
  "nbformat_minor": 0,
  "metadata": {
    "colab": {
      "name": "stockpriceforecasting.ipynb",
      "provenance": [],
      "collapsed_sections": []
    },
    "kernelspec": {
      "name": "python3",
      "display_name": "Python 3"
    },
    "language_info": {
      "name": "python"
    },
    "accelerator": "GPU"
  },
  "cells": [
    {
      "cell_type": "code",
      "source": [
        "import numpy as np\n",
        "import pandas as pd\n",
        "import matplotlib.pyplot as plt"
      ],
      "metadata": {
        "id": "nB1Rjh6RTD-P"
      },
      "execution_count": 29,
      "outputs": []
    },
    {
      "cell_type": "code",
      "execution_count": 30,
      "metadata": {
        "id": "kiWuOC3qKZub"
      },
      "outputs": [],
      "source": [
        "import pandas_datareader as pdr\n",
        "key=\"b8c30790650f818b57e22dc1557e54ef1e4e46c8\""
      ]
    },
    {
      "cell_type": "code",
      "source": [
        "df = pdr.get_data_tiingo('AAPL', api_key=key)"
      ],
      "metadata": {
        "id": "Tu_Tl3nhNXed"
      },
      "execution_count": 31,
      "outputs": []
    },
    {
      "cell_type": "code",
      "source": [
        "df"
      ],
      "metadata": {
        "colab": {
          "base_uri": "https://localhost:8080/",
          "height": 693
        },
        "id": "UwRxw2KPNXiD",
        "outputId": "405956a7-02c6-4daa-fab6-fee86f25ba55"
      },
      "execution_count": 32,
      "outputs": [
        {
          "output_type": "execute_result",
          "data": {
            "text/html": [
              "\n",
              "  <div id=\"df-589b5cc4-3947-4bed-9b43-26b623857b5d\">\n",
              "    <div class=\"colab-df-container\">\n",
              "      <div>\n",
              "<style scoped>\n",
              "    .dataframe tbody tr th:only-of-type {\n",
              "        vertical-align: middle;\n",
              "    }\n",
              "\n",
              "    .dataframe tbody tr th {\n",
              "        vertical-align: top;\n",
              "    }\n",
              "\n",
              "    .dataframe thead th {\n",
              "        text-align: right;\n",
              "    }\n",
              "</style>\n",
              "<table border=\"1\" class=\"dataframe\">\n",
              "  <thead>\n",
              "    <tr style=\"text-align: right;\">\n",
              "      <th></th>\n",
              "      <th></th>\n",
              "      <th>close</th>\n",
              "      <th>high</th>\n",
              "      <th>low</th>\n",
              "      <th>open</th>\n",
              "      <th>volume</th>\n",
              "      <th>adjClose</th>\n",
              "      <th>adjHigh</th>\n",
              "      <th>adjLow</th>\n",
              "      <th>adjOpen</th>\n",
              "      <th>adjVolume</th>\n",
              "      <th>divCash</th>\n",
              "      <th>splitFactor</th>\n",
              "    </tr>\n",
              "    <tr>\n",
              "      <th>symbol</th>\n",
              "      <th>date</th>\n",
              "      <th></th>\n",
              "      <th></th>\n",
              "      <th></th>\n",
              "      <th></th>\n",
              "      <th></th>\n",
              "      <th></th>\n",
              "      <th></th>\n",
              "      <th></th>\n",
              "      <th></th>\n",
              "      <th></th>\n",
              "      <th></th>\n",
              "      <th></th>\n",
              "    </tr>\n",
              "  </thead>\n",
              "  <tbody>\n",
              "    <tr>\n",
              "      <th rowspan=\"11\" valign=\"top\">AAPL</th>\n",
              "      <th>2016-12-27 00:00:00+00:00</th>\n",
              "      <td>117.26</td>\n",
              "      <td>117.8000</td>\n",
              "      <td>116.49</td>\n",
              "      <td>116.520</td>\n",
              "      <td>18296855</td>\n",
              "      <td>27.590363</td>\n",
              "      <td>27.717421</td>\n",
              "      <td>27.409188</td>\n",
              "      <td>27.416247</td>\n",
              "      <td>73187420</td>\n",
              "      <td>0.0</td>\n",
              "      <td>1.0</td>\n",
              "    </tr>\n",
              "    <tr>\n",
              "      <th>2016-12-28 00:00:00+00:00</th>\n",
              "      <td>116.76</td>\n",
              "      <td>118.0166</td>\n",
              "      <td>116.20</td>\n",
              "      <td>117.520</td>\n",
              "      <td>20905892</td>\n",
              "      <td>27.472717</td>\n",
              "      <td>27.768385</td>\n",
              "      <td>27.340953</td>\n",
              "      <td>27.651539</td>\n",
              "      <td>83623568</td>\n",
              "      <td>0.0</td>\n",
              "      <td>1.0</td>\n",
              "    </tr>\n",
              "    <tr>\n",
              "      <th>2016-12-29 00:00:00+00:00</th>\n",
              "      <td>116.73</td>\n",
              "      <td>117.1095</td>\n",
              "      <td>116.40</td>\n",
              "      <td>116.450</td>\n",
              "      <td>15039519</td>\n",
              "      <td>27.465658</td>\n",
              "      <td>27.554951</td>\n",
              "      <td>27.388012</td>\n",
              "      <td>27.399776</td>\n",
              "      <td>60158076</td>\n",
              "      <td>0.0</td>\n",
              "      <td>1.0</td>\n",
              "    </tr>\n",
              "    <tr>\n",
              "      <th>2016-12-30 00:00:00+00:00</th>\n",
              "      <td>115.82</td>\n",
              "      <td>117.2000</td>\n",
              "      <td>115.43</td>\n",
              "      <td>116.650</td>\n",
              "      <td>30586265</td>\n",
              "      <td>27.251542</td>\n",
              "      <td>27.576245</td>\n",
              "      <td>27.159778</td>\n",
              "      <td>27.446835</td>\n",
              "      <td>122345060</td>\n",
              "      <td>0.0</td>\n",
              "      <td>1.0</td>\n",
              "    </tr>\n",
              "    <tr>\n",
              "      <th>2017-01-03 00:00:00+00:00</th>\n",
              "      <td>116.15</td>\n",
              "      <td>116.3300</td>\n",
              "      <td>114.76</td>\n",
              "      <td>115.800</td>\n",
              "      <td>28781865</td>\n",
              "      <td>27.329189</td>\n",
              "      <td>27.371541</td>\n",
              "      <td>27.002132</td>\n",
              "      <td>27.246836</td>\n",
              "      <td>115127460</td>\n",
              "      <td>0.0</td>\n",
              "      <td>1.0</td>\n",
              "    </tr>\n",
              "    <tr>\n",
              "      <th>...</th>\n",
              "      <td>...</td>\n",
              "      <td>...</td>\n",
              "      <td>...</td>\n",
              "      <td>...</td>\n",
              "      <td>...</td>\n",
              "      <td>...</td>\n",
              "      <td>...</td>\n",
              "      <td>...</td>\n",
              "      <td>...</td>\n",
              "      <td>...</td>\n",
              "      <td>...</td>\n",
              "      <td>...</td>\n",
              "    </tr>\n",
              "    <tr>\n",
              "      <th>2021-12-17 00:00:00+00:00</th>\n",
              "      <td>171.14</td>\n",
              "      <td>173.4700</td>\n",
              "      <td>169.69</td>\n",
              "      <td>169.930</td>\n",
              "      <td>195923441</td>\n",
              "      <td>171.140000</td>\n",
              "      <td>173.470000</td>\n",
              "      <td>169.690000</td>\n",
              "      <td>169.930000</td>\n",
              "      <td>195923441</td>\n",
              "      <td>0.0</td>\n",
              "      <td>1.0</td>\n",
              "    </tr>\n",
              "    <tr>\n",
              "      <th>2021-12-20 00:00:00+00:00</th>\n",
              "      <td>169.75</td>\n",
              "      <td>170.5800</td>\n",
              "      <td>167.46</td>\n",
              "      <td>168.280</td>\n",
              "      <td>107499114</td>\n",
              "      <td>169.750000</td>\n",
              "      <td>170.580000</td>\n",
              "      <td>167.460000</td>\n",
              "      <td>168.280000</td>\n",
              "      <td>107499114</td>\n",
              "      <td>0.0</td>\n",
              "      <td>1.0</td>\n",
              "    </tr>\n",
              "    <tr>\n",
              "      <th>2021-12-21 00:00:00+00:00</th>\n",
              "      <td>172.99</td>\n",
              "      <td>173.2000</td>\n",
              "      <td>169.12</td>\n",
              "      <td>171.555</td>\n",
              "      <td>91185905</td>\n",
              "      <td>172.990000</td>\n",
              "      <td>173.200000</td>\n",
              "      <td>169.120000</td>\n",
              "      <td>171.555000</td>\n",
              "      <td>91185905</td>\n",
              "      <td>0.0</td>\n",
              "      <td>1.0</td>\n",
              "    </tr>\n",
              "    <tr>\n",
              "      <th>2021-12-22 00:00:00+00:00</th>\n",
              "      <td>175.64</td>\n",
              "      <td>175.8600</td>\n",
              "      <td>172.15</td>\n",
              "      <td>173.040</td>\n",
              "      <td>92135303</td>\n",
              "      <td>175.640000</td>\n",
              "      <td>175.860000</td>\n",
              "      <td>172.150000</td>\n",
              "      <td>173.040000</td>\n",
              "      <td>92135303</td>\n",
              "      <td>0.0</td>\n",
              "      <td>1.0</td>\n",
              "    </tr>\n",
              "    <tr>\n",
              "      <th>2021-12-23 00:00:00+00:00</th>\n",
              "      <td>176.28</td>\n",
              "      <td>176.8499</td>\n",
              "      <td>175.27</td>\n",
              "      <td>175.850</td>\n",
              "      <td>68356567</td>\n",
              "      <td>176.280000</td>\n",
              "      <td>176.849900</td>\n",
              "      <td>175.270000</td>\n",
              "      <td>175.850000</td>\n",
              "      <td>68356567</td>\n",
              "      <td>0.0</td>\n",
              "      <td>1.0</td>\n",
              "    </tr>\n",
              "  </tbody>\n",
              "</table>\n",
              "<p>1258 rows × 12 columns</p>\n",
              "</div>\n",
              "      <button class=\"colab-df-convert\" onclick=\"convertToInteractive('df-589b5cc4-3947-4bed-9b43-26b623857b5d')\"\n",
              "              title=\"Convert this dataframe to an interactive table.\"\n",
              "              style=\"display:none;\">\n",
              "        \n",
              "  <svg xmlns=\"http://www.w3.org/2000/svg\" height=\"24px\"viewBox=\"0 0 24 24\"\n",
              "       width=\"24px\">\n",
              "    <path d=\"M0 0h24v24H0V0z\" fill=\"none\"/>\n",
              "    <path d=\"M18.56 5.44l.94 2.06.94-2.06 2.06-.94-2.06-.94-.94-2.06-.94 2.06-2.06.94zm-11 1L8.5 8.5l.94-2.06 2.06-.94-2.06-.94L8.5 2.5l-.94 2.06-2.06.94zm10 10l.94 2.06.94-2.06 2.06-.94-2.06-.94-.94-2.06-.94 2.06-2.06.94z\"/><path d=\"M17.41 7.96l-1.37-1.37c-.4-.4-.92-.59-1.43-.59-.52 0-1.04.2-1.43.59L10.3 9.45l-7.72 7.72c-.78.78-.78 2.05 0 2.83L4 21.41c.39.39.9.59 1.41.59.51 0 1.02-.2 1.41-.59l7.78-7.78 2.81-2.81c.8-.78.8-2.07 0-2.86zM5.41 20L4 18.59l7.72-7.72 1.47 1.35L5.41 20z\"/>\n",
              "  </svg>\n",
              "      </button>\n",
              "      \n",
              "  <style>\n",
              "    .colab-df-container {\n",
              "      display:flex;\n",
              "      flex-wrap:wrap;\n",
              "      gap: 12px;\n",
              "    }\n",
              "\n",
              "    .colab-df-convert {\n",
              "      background-color: #E8F0FE;\n",
              "      border: none;\n",
              "      border-radius: 50%;\n",
              "      cursor: pointer;\n",
              "      display: none;\n",
              "      fill: #1967D2;\n",
              "      height: 32px;\n",
              "      padding: 0 0 0 0;\n",
              "      width: 32px;\n",
              "    }\n",
              "\n",
              "    .colab-df-convert:hover {\n",
              "      background-color: #E2EBFA;\n",
              "      box-shadow: 0px 1px 2px rgba(60, 64, 67, 0.3), 0px 1px 3px 1px rgba(60, 64, 67, 0.15);\n",
              "      fill: #174EA6;\n",
              "    }\n",
              "\n",
              "    [theme=dark] .colab-df-convert {\n",
              "      background-color: #3B4455;\n",
              "      fill: #D2E3FC;\n",
              "    }\n",
              "\n",
              "    [theme=dark] .colab-df-convert:hover {\n",
              "      background-color: #434B5C;\n",
              "      box-shadow: 0px 1px 3px 1px rgba(0, 0, 0, 0.15);\n",
              "      filter: drop-shadow(0px 1px 2px rgba(0, 0, 0, 0.3));\n",
              "      fill: #FFFFFF;\n",
              "    }\n",
              "  </style>\n",
              "\n",
              "      <script>\n",
              "        const buttonEl =\n",
              "          document.querySelector('#df-589b5cc4-3947-4bed-9b43-26b623857b5d button.colab-df-convert');\n",
              "        buttonEl.style.display =\n",
              "          google.colab.kernel.accessAllowed ? 'block' : 'none';\n",
              "\n",
              "        async function convertToInteractive(key) {\n",
              "          const element = document.querySelector('#df-589b5cc4-3947-4bed-9b43-26b623857b5d');\n",
              "          const dataTable =\n",
              "            await google.colab.kernel.invokeFunction('convertToInteractive',\n",
              "                                                     [key], {});\n",
              "          if (!dataTable) return;\n",
              "\n",
              "          const docLinkHtml = 'Like what you see? Visit the ' +\n",
              "            '<a target=\"_blank\" href=https://colab.research.google.com/notebooks/data_table.ipynb>data table notebook</a>'\n",
              "            + ' to learn more about interactive tables.';\n",
              "          element.innerHTML = '';\n",
              "          dataTable['output_type'] = 'display_data';\n",
              "          await google.colab.output.renderOutput(dataTable, element);\n",
              "          const docLink = document.createElement('div');\n",
              "          docLink.innerHTML = docLinkHtml;\n",
              "          element.appendChild(docLink);\n",
              "        }\n",
              "      </script>\n",
              "    </div>\n",
              "  </div>\n",
              "  "
            ],
            "text/plain": [
              "                                   close      high  ...  divCash  splitFactor\n",
              "symbol date                                         ...                      \n",
              "AAPL   2016-12-27 00:00:00+00:00  117.26  117.8000  ...      0.0          1.0\n",
              "       2016-12-28 00:00:00+00:00  116.76  118.0166  ...      0.0          1.0\n",
              "       2016-12-29 00:00:00+00:00  116.73  117.1095  ...      0.0          1.0\n",
              "       2016-12-30 00:00:00+00:00  115.82  117.2000  ...      0.0          1.0\n",
              "       2017-01-03 00:00:00+00:00  116.15  116.3300  ...      0.0          1.0\n",
              "...                                  ...       ...  ...      ...          ...\n",
              "       2021-12-17 00:00:00+00:00  171.14  173.4700  ...      0.0          1.0\n",
              "       2021-12-20 00:00:00+00:00  169.75  170.5800  ...      0.0          1.0\n",
              "       2021-12-21 00:00:00+00:00  172.99  173.2000  ...      0.0          1.0\n",
              "       2021-12-22 00:00:00+00:00  175.64  175.8600  ...      0.0          1.0\n",
              "       2021-12-23 00:00:00+00:00  176.28  176.8499  ...      0.0          1.0\n",
              "\n",
              "[1258 rows x 12 columns]"
            ]
          },
          "metadata": {},
          "execution_count": 32
        }
      ]
    },
    {
      "cell_type": "code",
      "source": [
        "df.to_csv('AAPL1.csv')"
      ],
      "metadata": {
        "id": "qtdQbkdMNXk0"
      },
      "execution_count": 33,
      "outputs": []
    },
    {
      "cell_type": "code",
      "source": [
        "df=pd.read_csv('AAPL1.csv')\n",
        "df.head()"
      ],
      "metadata": {
        "colab": {
          "base_uri": "https://localhost:8080/",
          "height": 357
        },
        "id": "LeVz-qQENXn-",
        "outputId": "7bc8e7dd-b97e-4dc1-bd2a-46c45a58e275"
      },
      "execution_count": 34,
      "outputs": [
        {
          "output_type": "execute_result",
          "data": {
            "text/html": [
              "\n",
              "  <div id=\"df-70f583ca-ceac-4299-8c49-8d28ca02f8a2\">\n",
              "    <div class=\"colab-df-container\">\n",
              "      <div>\n",
              "<style scoped>\n",
              "    .dataframe tbody tr th:only-of-type {\n",
              "        vertical-align: middle;\n",
              "    }\n",
              "\n",
              "    .dataframe tbody tr th {\n",
              "        vertical-align: top;\n",
              "    }\n",
              "\n",
              "    .dataframe thead th {\n",
              "        text-align: right;\n",
              "    }\n",
              "</style>\n",
              "<table border=\"1\" class=\"dataframe\">\n",
              "  <thead>\n",
              "    <tr style=\"text-align: right;\">\n",
              "      <th></th>\n",
              "      <th>symbol</th>\n",
              "      <th>date</th>\n",
              "      <th>close</th>\n",
              "      <th>high</th>\n",
              "      <th>low</th>\n",
              "      <th>open</th>\n",
              "      <th>volume</th>\n",
              "      <th>adjClose</th>\n",
              "      <th>adjHigh</th>\n",
              "      <th>adjLow</th>\n",
              "      <th>adjOpen</th>\n",
              "      <th>adjVolume</th>\n",
              "      <th>divCash</th>\n",
              "      <th>splitFactor</th>\n",
              "    </tr>\n",
              "  </thead>\n",
              "  <tbody>\n",
              "    <tr>\n",
              "      <th>0</th>\n",
              "      <td>AAPL</td>\n",
              "      <td>2016-12-27 00:00:00+00:00</td>\n",
              "      <td>117.26</td>\n",
              "      <td>117.8000</td>\n",
              "      <td>116.49</td>\n",
              "      <td>116.52</td>\n",
              "      <td>18296855</td>\n",
              "      <td>27.590363</td>\n",
              "      <td>27.717421</td>\n",
              "      <td>27.409188</td>\n",
              "      <td>27.416247</td>\n",
              "      <td>73187420</td>\n",
              "      <td>0.0</td>\n",
              "      <td>1.0</td>\n",
              "    </tr>\n",
              "    <tr>\n",
              "      <th>1</th>\n",
              "      <td>AAPL</td>\n",
              "      <td>2016-12-28 00:00:00+00:00</td>\n",
              "      <td>116.76</td>\n",
              "      <td>118.0166</td>\n",
              "      <td>116.20</td>\n",
              "      <td>117.52</td>\n",
              "      <td>20905892</td>\n",
              "      <td>27.472717</td>\n",
              "      <td>27.768385</td>\n",
              "      <td>27.340953</td>\n",
              "      <td>27.651539</td>\n",
              "      <td>83623568</td>\n",
              "      <td>0.0</td>\n",
              "      <td>1.0</td>\n",
              "    </tr>\n",
              "    <tr>\n",
              "      <th>2</th>\n",
              "      <td>AAPL</td>\n",
              "      <td>2016-12-29 00:00:00+00:00</td>\n",
              "      <td>116.73</td>\n",
              "      <td>117.1095</td>\n",
              "      <td>116.40</td>\n",
              "      <td>116.45</td>\n",
              "      <td>15039519</td>\n",
              "      <td>27.465658</td>\n",
              "      <td>27.554951</td>\n",
              "      <td>27.388012</td>\n",
              "      <td>27.399776</td>\n",
              "      <td>60158076</td>\n",
              "      <td>0.0</td>\n",
              "      <td>1.0</td>\n",
              "    </tr>\n",
              "    <tr>\n",
              "      <th>3</th>\n",
              "      <td>AAPL</td>\n",
              "      <td>2016-12-30 00:00:00+00:00</td>\n",
              "      <td>115.82</td>\n",
              "      <td>117.2000</td>\n",
              "      <td>115.43</td>\n",
              "      <td>116.65</td>\n",
              "      <td>30586265</td>\n",
              "      <td>27.251542</td>\n",
              "      <td>27.576245</td>\n",
              "      <td>27.159778</td>\n",
              "      <td>27.446835</td>\n",
              "      <td>122345060</td>\n",
              "      <td>0.0</td>\n",
              "      <td>1.0</td>\n",
              "    </tr>\n",
              "    <tr>\n",
              "      <th>4</th>\n",
              "      <td>AAPL</td>\n",
              "      <td>2017-01-03 00:00:00+00:00</td>\n",
              "      <td>116.15</td>\n",
              "      <td>116.3300</td>\n",
              "      <td>114.76</td>\n",
              "      <td>115.80</td>\n",
              "      <td>28781865</td>\n",
              "      <td>27.329189</td>\n",
              "      <td>27.371541</td>\n",
              "      <td>27.002132</td>\n",
              "      <td>27.246836</td>\n",
              "      <td>115127460</td>\n",
              "      <td>0.0</td>\n",
              "      <td>1.0</td>\n",
              "    </tr>\n",
              "  </tbody>\n",
              "</table>\n",
              "</div>\n",
              "      <button class=\"colab-df-convert\" onclick=\"convertToInteractive('df-70f583ca-ceac-4299-8c49-8d28ca02f8a2')\"\n",
              "              title=\"Convert this dataframe to an interactive table.\"\n",
              "              style=\"display:none;\">\n",
              "        \n",
              "  <svg xmlns=\"http://www.w3.org/2000/svg\" height=\"24px\"viewBox=\"0 0 24 24\"\n",
              "       width=\"24px\">\n",
              "    <path d=\"M0 0h24v24H0V0z\" fill=\"none\"/>\n",
              "    <path d=\"M18.56 5.44l.94 2.06.94-2.06 2.06-.94-2.06-.94-.94-2.06-.94 2.06-2.06.94zm-11 1L8.5 8.5l.94-2.06 2.06-.94-2.06-.94L8.5 2.5l-.94 2.06-2.06.94zm10 10l.94 2.06.94-2.06 2.06-.94-2.06-.94-.94-2.06-.94 2.06-2.06.94z\"/><path d=\"M17.41 7.96l-1.37-1.37c-.4-.4-.92-.59-1.43-.59-.52 0-1.04.2-1.43.59L10.3 9.45l-7.72 7.72c-.78.78-.78 2.05 0 2.83L4 21.41c.39.39.9.59 1.41.59.51 0 1.02-.2 1.41-.59l7.78-7.78 2.81-2.81c.8-.78.8-2.07 0-2.86zM5.41 20L4 18.59l7.72-7.72 1.47 1.35L5.41 20z\"/>\n",
              "  </svg>\n",
              "      </button>\n",
              "      \n",
              "  <style>\n",
              "    .colab-df-container {\n",
              "      display:flex;\n",
              "      flex-wrap:wrap;\n",
              "      gap: 12px;\n",
              "    }\n",
              "\n",
              "    .colab-df-convert {\n",
              "      background-color: #E8F0FE;\n",
              "      border: none;\n",
              "      border-radius: 50%;\n",
              "      cursor: pointer;\n",
              "      display: none;\n",
              "      fill: #1967D2;\n",
              "      height: 32px;\n",
              "      padding: 0 0 0 0;\n",
              "      width: 32px;\n",
              "    }\n",
              "\n",
              "    .colab-df-convert:hover {\n",
              "      background-color: #E2EBFA;\n",
              "      box-shadow: 0px 1px 2px rgba(60, 64, 67, 0.3), 0px 1px 3px 1px rgba(60, 64, 67, 0.15);\n",
              "      fill: #174EA6;\n",
              "    }\n",
              "\n",
              "    [theme=dark] .colab-df-convert {\n",
              "      background-color: #3B4455;\n",
              "      fill: #D2E3FC;\n",
              "    }\n",
              "\n",
              "    [theme=dark] .colab-df-convert:hover {\n",
              "      background-color: #434B5C;\n",
              "      box-shadow: 0px 1px 3px 1px rgba(0, 0, 0, 0.15);\n",
              "      filter: drop-shadow(0px 1px 2px rgba(0, 0, 0, 0.3));\n",
              "      fill: #FFFFFF;\n",
              "    }\n",
              "  </style>\n",
              "\n",
              "      <script>\n",
              "        const buttonEl =\n",
              "          document.querySelector('#df-70f583ca-ceac-4299-8c49-8d28ca02f8a2 button.colab-df-convert');\n",
              "        buttonEl.style.display =\n",
              "          google.colab.kernel.accessAllowed ? 'block' : 'none';\n",
              "\n",
              "        async function convertToInteractive(key) {\n",
              "          const element = document.querySelector('#df-70f583ca-ceac-4299-8c49-8d28ca02f8a2');\n",
              "          const dataTable =\n",
              "            await google.colab.kernel.invokeFunction('convertToInteractive',\n",
              "                                                     [key], {});\n",
              "          if (!dataTable) return;\n",
              "\n",
              "          const docLinkHtml = 'Like what you see? Visit the ' +\n",
              "            '<a target=\"_blank\" href=https://colab.research.google.com/notebooks/data_table.ipynb>data table notebook</a>'\n",
              "            + ' to learn more about interactive tables.';\n",
              "          element.innerHTML = '';\n",
              "          dataTable['output_type'] = 'display_data';\n",
              "          await google.colab.output.renderOutput(dataTable, element);\n",
              "          const docLink = document.createElement('div');\n",
              "          docLink.innerHTML = docLinkHtml;\n",
              "          element.appendChild(docLink);\n",
              "        }\n",
              "      </script>\n",
              "    </div>\n",
              "  </div>\n",
              "  "
            ],
            "text/plain": [
              "  symbol                       date   close  ...  adjVolume  divCash  splitFactor\n",
              "0   AAPL  2016-12-27 00:00:00+00:00  117.26  ...   73187420      0.0          1.0\n",
              "1   AAPL  2016-12-28 00:00:00+00:00  116.76  ...   83623568      0.0          1.0\n",
              "2   AAPL  2016-12-29 00:00:00+00:00  116.73  ...   60158076      0.0          1.0\n",
              "3   AAPL  2016-12-30 00:00:00+00:00  115.82  ...  122345060      0.0          1.0\n",
              "4   AAPL  2017-01-03 00:00:00+00:00  116.15  ...  115127460      0.0          1.0\n",
              "\n",
              "[5 rows x 14 columns]"
            ]
          },
          "metadata": {},
          "execution_count": 34
        }
      ]
    },
    {
      "cell_type": "code",
      "source": [
        "df1=df.reset_index()['close']"
      ],
      "metadata": {
        "id": "Nn0fDR5_NXr7"
      },
      "execution_count": 35,
      "outputs": []
    },
    {
      "cell_type": "code",
      "source": [
        "df1"
      ],
      "metadata": {
        "colab": {
          "base_uri": "https://localhost:8080/"
        },
        "id": "8LLwHq1_NXva",
        "outputId": "d547a1b5-273e-40a9-8be6-7b10c1c15fa4"
      },
      "execution_count": 36,
      "outputs": [
        {
          "output_type": "execute_result",
          "data": {
            "text/plain": [
              "0       117.26\n",
              "1       116.76\n",
              "2       116.73\n",
              "3       115.82\n",
              "4       116.15\n",
              "         ...  \n",
              "1253    171.14\n",
              "1254    169.75\n",
              "1255    172.99\n",
              "1256    175.64\n",
              "1257    176.28\n",
              "Name: close, Length: 1258, dtype: float64"
            ]
          },
          "metadata": {},
          "execution_count": 36
        }
      ]
    },
    {
      "cell_type": "code",
      "source": [
        "plt.plot(df1)\n",
        "plt.title('Input stock data')\n",
        "plt.savefig('Input stock data')"
      ],
      "metadata": {
        "colab": {
          "base_uri": "https://localhost:8080/",
          "height": 316
        },
        "id": "q-rminCYNXyv",
        "outputId": "7ef5d17d-0de7-4c53-9724-6993fb7fcd9c"
      },
      "execution_count": 74,
      "outputs": [
        {
          "output_type": "stream",
          "name": "stderr",
          "text": [
            "No handles with labels found to put in legend.\n"
          ]
        },
        {
          "output_type": "execute_result",
          "data": {
            "text/plain": [
              "<matplotlib.legend.Legend at 0x7fa6f01f1c10>"
            ]
          },
          "metadata": {},
          "execution_count": 74
        },
        {
          "output_type": "display_data",
          "data": {
            "image/png": "[encoded data removed]",
            "text/plain": [
              "<Figure size 432x288 with 1 Axes>"
            ]
          },
          "metadata": {
            "needs_background": "light"
          }
        }
      ]
    },
    {
      "cell_type": "code",
      "source": [
        "from sklearn.preprocessing import MinMaxScaler\n",
        "scaler=MinMaxScaler(feature_range=(0,1))\n",
        "df1=scaler.fit_transform(np.array(df1).reshape(-1,1))"
      ],
      "metadata": {
        "id": "gSE8REygTCoj"
      },
      "execution_count": 38,
      "outputs": []
    },
    {
      "cell_type": "code",
      "source": [
        "print(df1)"
      ],
      "metadata": {
        "colab": {
          "base_uri": "https://localhost:8080/"
        },
        "id": "2mZoqEhYNX17",
        "outputId": "afedde62-551e-48a0-dcd3-ebef5f2b5962"
      },
      "execution_count": 39,
      "outputs": [
        {
          "output_type": "stream",
          "name": "stdout",
          "text": [
            "[[0.02609894]\n",
            " [0.02484659]\n",
            " [0.02477145]\n",
            " ...\n",
            " [0.16568566]\n",
            " [0.17232311]\n",
            " [0.17392611]]\n"
          ]
        }
      ]
    },
    {
      "cell_type": "code",
      "source": [
        "training_size=int(len(df1)*0.65)\n",
        "test_size=len(df1)-training_size\n",
        "train_data,test_data=df1[0:training_size,:],df1[training_size:len(df1),:1]"
      ],
      "metadata": {
        "id": "avdfBP-GNX7j"
      },
      "execution_count": 40,
      "outputs": []
    },
    {
      "cell_type": "code",
      "source": [
        "training_size,test_size"
      ],
      "metadata": {
        "colab": {
          "base_uri": "https://localhost:8080/"
        },
        "id": "X-E5btmKUHwc",
        "outputId": "3c7f5b98-dce6-4cc9-895f-b93b025adcbc"
      },
      "execution_count": 41,
      "outputs": [
        {
          "output_type": "execute_result",
          "data": {
            "text/plain": [
              "(817, 441)"
            ]
          },
          "metadata": {},
          "execution_count": 41
        }
      ]
    },
    {
      "cell_type": "code",
      "source": [
        "def create_dataset(dataset, time_step=1):\n",
        "\tdataX, dataY = [], []\n",
        "\tfor i in range(len(dataset)-time_step-1):\n",
        "\t\ta = dataset[i:(i+time_step), 0]   ###i=0, 0,1,2,3-----99   100 \n",
        "\t\tdataX.append(a)\n",
        "\t\tdataY.append(dataset[i + time_step, 0])\n",
        "\treturn np.array(dataX), np.array(dataY)"
      ],
      "metadata": {
        "id": "1gr7gZCrUH0f"
      },
      "execution_count": 42,
      "outputs": []
    },
    {
      "cell_type": "code",
      "source": [
        "time_step = 100\n",
        "X_train, y_train = create_dataset(train_data, time_step)\n",
        "X_test, ytest = create_dataset(test_data, time_step)"
      ],
      "metadata": {
        "id": "WaxEHCA3UH4x"
      },
      "execution_count": 43,
      "outputs": []
    },
    {
      "cell_type": "code",
      "source": [
        "print(X_train.shape)\n",
        "print(y_train.shape)\n",
        "print(X_test.shape)\n",
        "print(ytest.shape)"
      ],
      "metadata": {
        "colab": {
          "base_uri": "https://localhost:8080/"
        },
        "id": "-ywJC8o5UIBD",
        "outputId": "35598146-3f5c-4728-8710-ff6372b5ea93"
      },
      "execution_count": 44,
      "outputs": [
        {
          "output_type": "stream",
          "name": "stdout",
          "text": [
            "(716, 100)\n",
            "(716,)\n",
            "(340, 100)\n",
            "(340,)\n"
          ]
        }
      ]
    },
    {
      "cell_type": "code",
      "source": [
        "X_train =X_train.reshape(X_train.shape[0],X_train.shape[1] , 1)\n",
        "X_test = X_test.reshape(X_test.shape[0],X_test.shape[1] , 1)\n",
        "print(X_train.shape)\n",
        "print(X_test.shape)"
      ],
      "metadata": {
        "colab": {
          "base_uri": "https://localhost:8080/"
        },
        "id": "WvTRctuTUIHD",
        "outputId": "1b4ad4ec-6546-476d-e314-9123661f87f7"
      },
      "execution_count": 45,
      "outputs": [
        {
          "output_type": "stream",
          "name": "stdout",
          "text": [
            "(716, 100, 1)\n",
            "(340, 100, 1)\n"
          ]
        }
      ]
    },
    {
      "cell_type": "code",
      "source": [
        "from tensorflow.keras.models import Sequential\n",
        "from tensorflow.keras.layers import Dense\n",
        "from tensorflow.keras.layers import Lambda\n",
        "from tensorflow.keras.layers import LSTM"
      ],
      "metadata": {
        "id": "6wV4tHmZbXOi"
      },
      "execution_count": 46,
      "outputs": []
    },
    {
      "cell_type": "code",
      "source": [
        "model=Sequential()\n",
        "model.add(LSTM(50,return_sequences=True,input_shape=(100,1)))\n",
        "model.add(LSTM(50,return_sequences=True))\n",
        "model.add(LSTM(50))\n",
        "model.add(Dense(1))\n",
        "model.compile(loss='mean_squared_error',optimizer='adam')"
      ],
      "metadata": {
        "id": "1KnY7x2EbXSB"
      },
      "execution_count": 47,
      "outputs": []
    },
    {
      "cell_type": "code",
      "source": [
        "model.summary()"
      ],
      "metadata": {
        "colab": {
          "base_uri": "https://localhost:8080/"
        },
        "id": "oTcCkbKsbXVL",
        "outputId": "cc60ba6c-968d-49c6-b7f4-2e46af07d5d6"
      },
      "execution_count": 48,
      "outputs": [
        {
          "output_type": "stream",
          "name": "stdout",
          "text": [
            "Model: \"sequential_1\"\n",
            "_________________________________________________________________\n",
            " Layer (type)                Output Shape              Param #   \n",
            "=================================================================\n",
            " lstm_3 (LSTM)               (None, 100, 50)           10400     \n",
            "                                                                 \n",
            " lstm_4 (LSTM)               (None, 100, 50)           20200     \n",
            "                                                                 \n",
            " lstm_5 (LSTM)               (None, 50)                20200     \n",
            "                                                                 \n",
            " dense_1 (Dense)             (None, 1)                 51        \n",
            "                                                                 \n",
            "=================================================================\n",
            "Total params: 50,851\n",
            "Trainable params: 50,851\n",
            "Non-trainable params: 0\n",
            "_________________________________________________________________\n"
          ]
        }
      ]
    },
    {
      "cell_type": "code",
      "source": [
        "r=model.fit(X_train,y_train,validation_data=(X_test,ytest),epochs=200,batch_size=64,verbose=1)"
      ],
      "metadata": {
        "colab": {
          "base_uri": "https://localhost:8080/"
        },
        "id": "npFdvA_ybXYx",
        "outputId": "09e7bbd8-51e3-412d-de94-e26cfd802fac"
      },
      "execution_count": 49,
      "outputs": [
        {
          "output_type": "stream",
          "name": "stdout",
          "text": [
            "Epoch 1/200\n",
            "12/12 [==============================] - 8s 258ms/step - loss: 0.0233 - val_loss: 0.0190\n",
            "Epoch 2/200\n",
            "12/12 [==============================] - 1s 96ms/step - loss: 0.0037 - val_loss: 0.0233\n",
            "Epoch 3/200\n",
            "12/12 [==============================] - 1s 95ms/step - loss: 0.0020 - val_loss: 0.0192\n",
            "Epoch 4/200\n",
            "12/12 [==============================] - 1s 96ms/step - loss: 0.0011 - val_loss: 0.0214\n",
            "Epoch 5/200\n",
            "12/12 [==============================] - 1s 85ms/step - loss: 9.9484e-04 - val_loss: 0.0185\n",
            "Epoch 6/200\n",
            "12/12 [==============================] - 1s 85ms/step - loss: 9.2775e-04 - val_loss: 0.0174\n",
            "Epoch 7/200\n",
            "12/12 [==============================] - 1s 85ms/step - loss: 9.0367e-04 - val_loss: 0.0185\n",
            "Epoch 8/200\n",
            "12/12 [==============================] - 1s 84ms/step - loss: 7.8651e-04 - val_loss: 0.0182\n",
            "Epoch 9/200\n",
            "12/12 [==============================] - 1s 84ms/step - loss: 7.2436e-04 - val_loss: 0.0173\n",
            "Epoch 10/200\n",
            "12/12 [==============================] - 1s 84ms/step - loss: 6.9203e-04 - val_loss: 0.0166\n",
            "Epoch 11/200\n",
            "12/12 [==============================] - 1s 84ms/step - loss: 6.3696e-04 - val_loss: 0.0162\n",
            "Epoch 12/200\n",
            "12/12 [==============================] - 1s 86ms/step - loss: 5.7804e-04 - val_loss: 0.0130\n",
            "Epoch 13/200\n",
            "12/12 [==============================] - 1s 84ms/step - loss: 5.3665e-04 - val_loss: 0.0131\n",
            "Epoch 14/200\n",
            "12/12 [==============================] - 1s 84ms/step - loss: 4.7218e-04 - val_loss: 0.0156\n",
            "Epoch 15/200\n",
            "12/12 [==============================] - 1s 85ms/step - loss: 4.2136e-04 - val_loss: 0.0144\n",
            "Epoch 16/200\n",
            "12/12 [==============================] - 1s 83ms/step - loss: 4.2801e-04 - val_loss: 0.0160\n",
            "Epoch 17/200\n",
            "12/12 [==============================] - 1s 83ms/step - loss: 4.1070e-04 - val_loss: 0.0156\n",
            "Epoch 18/200\n",
            "12/12 [==============================] - 1s 86ms/step - loss: 4.3865e-04 - val_loss: 0.0148\n",
            "Epoch 19/200\n",
            "12/12 [==============================] - 1s 86ms/step - loss: 3.9054e-04 - val_loss: 0.0150\n",
            "Epoch 20/200\n",
            "12/12 [==============================] - 1s 87ms/step - loss: 4.4664e-04 - val_loss: 0.0150\n",
            "Epoch 21/200\n",
            "12/12 [==============================] - 1s 90ms/step - loss: 3.8938e-04 - val_loss: 0.0138\n",
            "Epoch 22/200\n",
            "12/12 [==============================] - 1s 92ms/step - loss: 3.8138e-04 - val_loss: 0.0159\n",
            "Epoch 23/200\n",
            "12/12 [==============================] - 1s 98ms/step - loss: 3.7619e-04 - val_loss: 0.0154\n",
            "Epoch 24/200\n",
            "12/12 [==============================] - 1s 85ms/step - loss: 3.5909e-04 - val_loss: 0.0156\n",
            "Epoch 25/200\n",
            "12/12 [==============================] - 1s 93ms/step - loss: 3.5795e-04 - val_loss: 0.0142\n",
            "Epoch 26/200\n",
            "12/12 [==============================] - 1s 100ms/step - loss: 3.8019e-04 - val_loss: 0.0147\n",
            "Epoch 27/200\n",
            "12/12 [==============================] - 1s 101ms/step - loss: 3.9412e-04 - val_loss: 0.0143\n",
            "Epoch 28/200\n",
            "12/12 [==============================] - 1s 102ms/step - loss: 4.8950e-04 - val_loss: 0.0133\n",
            "Epoch 29/200\n",
            "12/12 [==============================] - 1s 100ms/step - loss: 4.9261e-04 - val_loss: 0.0126\n",
            "Epoch 30/200\n",
            "12/12 [==============================] - 1s 98ms/step - loss: 3.8287e-04 - val_loss: 0.0134\n",
            "Epoch 31/200\n",
            "12/12 [==============================] - 1s 96ms/step - loss: 3.6384e-04 - val_loss: 0.0125\n",
            "Epoch 32/200\n",
            "12/12 [==============================] - 1s 98ms/step - loss: 3.6931e-04 - val_loss: 0.0147\n",
            "Epoch 33/200\n",
            "12/12 [==============================] - 1s 96ms/step - loss: 3.6353e-04 - val_loss: 0.0114\n",
            "Epoch 34/200\n",
            "12/12 [==============================] - 1s 98ms/step - loss: 4.3938e-04 - val_loss: 0.0126\n",
            "Epoch 35/200\n",
            "12/12 [==============================] - 1s 88ms/step - loss: 3.5196e-04 - val_loss: 0.0128\n",
            "Epoch 36/200\n",
            "12/12 [==============================] - 1s 85ms/step - loss: 3.3961e-04 - val_loss: 0.0136\n",
            "Epoch 37/200\n",
            "12/12 [==============================] - 1s 93ms/step - loss: 3.2825e-04 - val_loss: 0.0117\n",
            "Epoch 38/200\n",
            "12/12 [==============================] - 1s 89ms/step - loss: 3.9209e-04 - val_loss: 0.0136\n",
            "Epoch 39/200\n",
            "12/12 [==============================] - 1s 90ms/step - loss: 3.2726e-04 - val_loss: 0.0125\n",
            "Epoch 40/200\n",
            "12/12 [==============================] - 1s 97ms/step - loss: 3.1906e-04 - val_loss: 0.0133\n",
            "Epoch 41/200\n",
            "12/12 [==============================] - 1s 92ms/step - loss: 3.2674e-04 - val_loss: 0.0129\n",
            "Epoch 42/200\n",
            "12/12 [==============================] - 1s 90ms/step - loss: 3.2214e-04 - val_loss: 0.0124\n",
            "Epoch 43/200\n",
            "12/12 [==============================] - 1s 96ms/step - loss: 3.3309e-04 - val_loss: 0.0131\n",
            "Epoch 44/200\n",
            "12/12 [==============================] - 1s 101ms/step - loss: 3.3014e-04 - val_loss: 0.0125\n",
            "Epoch 45/200\n",
            "12/12 [==============================] - 1s 91ms/step - loss: 3.2770e-04 - val_loss: 0.0126\n",
            "Epoch 46/200\n",
            "12/12 [==============================] - 1s 95ms/step - loss: 3.1973e-04 - val_loss: 0.0124\n",
            "Epoch 47/200\n",
            "12/12 [==============================] - 1s 95ms/step - loss: 3.3669e-04 - val_loss: 0.0120\n",
            "Epoch 48/200\n",
            "12/12 [==============================] - 1s 90ms/step - loss: 3.4924e-04 - val_loss: 0.0115\n",
            "Epoch 49/200\n",
            "12/12 [==============================] - 1s 90ms/step - loss: 3.2239e-04 - val_loss: 0.0116\n",
            "Epoch 50/200\n",
            "12/12 [==============================] - 1s 92ms/step - loss: 3.4721e-04 - val_loss: 0.0123\n",
            "Epoch 51/200\n",
            "12/12 [==============================] - 1s 87ms/step - loss: 3.0513e-04 - val_loss: 0.0112\n",
            "Epoch 52/200\n",
            "12/12 [==============================] - 1s 90ms/step - loss: 3.1598e-04 - val_loss: 0.0114\n",
            "Epoch 53/200\n",
            "12/12 [==============================] - 1s 84ms/step - loss: 3.6127e-04 - val_loss: 0.0121\n",
            "Epoch 54/200\n",
            "12/12 [==============================] - 1s 85ms/step - loss: 3.5629e-04 - val_loss: 0.0105\n",
            "Epoch 55/200\n",
            "12/12 [==============================] - 1s 84ms/step - loss: 3.4453e-04 - val_loss: 0.0119\n",
            "Epoch 56/200\n",
            "12/12 [==============================] - 1s 85ms/step - loss: 2.9732e-04 - val_loss: 0.0108\n",
            "Epoch 57/200\n",
            "12/12 [==============================] - 1s 84ms/step - loss: 3.5037e-04 - val_loss: 0.0133\n",
            "Epoch 58/200\n",
            "12/12 [==============================] - 1s 86ms/step - loss: 3.5284e-04 - val_loss: 0.0103\n",
            "Epoch 59/200\n",
            "12/12 [==============================] - 1s 85ms/step - loss: 3.1781e-04 - val_loss: 0.0115\n",
            "Epoch 60/200\n",
            "12/12 [==============================] - 1s 84ms/step - loss: 3.0882e-04 - val_loss: 0.0110\n",
            "Epoch 61/200\n",
            "12/12 [==============================] - 1s 86ms/step - loss: 3.0233e-04 - val_loss: 0.0104\n",
            "Epoch 62/200\n",
            "12/12 [==============================] - 1s 84ms/step - loss: 3.1667e-04 - val_loss: 0.0121\n",
            "Epoch 63/200\n",
            "12/12 [==============================] - 1s 85ms/step - loss: 4.0961e-04 - val_loss: 0.0095\n",
            "Epoch 64/200\n",
            "12/12 [==============================] - 1s 85ms/step - loss: 3.7218e-04 - val_loss: 0.0106\n",
            "Epoch 65/200\n",
            "12/12 [==============================] - 1s 85ms/step - loss: 3.1177e-04 - val_loss: 0.0101\n",
            "Epoch 66/200\n",
            "12/12 [==============================] - 1s 87ms/step - loss: 3.0595e-04 - val_loss: 0.0103\n",
            "Epoch 67/200\n",
            "12/12 [==============================] - 1s 97ms/step - loss: 2.9252e-04 - val_loss: 0.0111\n",
            "Epoch 68/200\n",
            "12/12 [==============================] - 1s 96ms/step - loss: 3.0575e-04 - val_loss: 0.0099\n",
            "Epoch 69/200\n",
            "12/12 [==============================] - 1s 95ms/step - loss: 3.0464e-04 - val_loss: 0.0110\n",
            "Epoch 70/200\n",
            "12/12 [==============================] - 1s 92ms/step - loss: 3.1479e-04 - val_loss: 0.0099\n",
            "Epoch 71/200\n",
            "12/12 [==============================] - 1s 91ms/step - loss: 2.9870e-04 - val_loss: 0.0105\n",
            "Epoch 72/200\n",
            "12/12 [==============================] - 1s 91ms/step - loss: 3.3032e-04 - val_loss: 0.0109\n",
            "Epoch 73/200\n",
            "12/12 [==============================] - 1s 87ms/step - loss: 3.8041e-04 - val_loss: 0.0093\n",
            "Epoch 74/200\n",
            "12/12 [==============================] - 1s 85ms/step - loss: 3.1940e-04 - val_loss: 0.0108\n",
            "Epoch 75/200\n",
            "12/12 [==============================] - 1s 86ms/step - loss: 2.9673e-04 - val_loss: 0.0094\n",
            "Epoch 76/200\n",
            "12/12 [==============================] - 1s 84ms/step - loss: 2.8992e-04 - val_loss: 0.0103\n",
            "Epoch 77/200\n",
            "12/12 [==============================] - 1s 85ms/step - loss: 3.0954e-04 - val_loss: 0.0093\n",
            "Epoch 78/200\n",
            "12/12 [==============================] - 1s 85ms/step - loss: 2.7680e-04 - val_loss: 0.0096\n",
            "Epoch 79/200\n",
            "12/12 [==============================] - 1s 85ms/step - loss: 2.7237e-04 - val_loss: 0.0094\n",
            "Epoch 80/200\n",
            "12/12 [==============================] - 1s 83ms/step - loss: 2.8273e-04 - val_loss: 0.0098\n",
            "Epoch 81/200\n",
            "12/12 [==============================] - 1s 85ms/step - loss: 2.8454e-04 - val_loss: 0.0092\n",
            "Epoch 82/200\n",
            "12/12 [==============================] - 1s 86ms/step - loss: 2.7267e-04 - val_loss: 0.0101\n",
            "Epoch 83/200\n",
            "12/12 [==============================] - 1s 86ms/step - loss: 2.7809e-04 - val_loss: 0.0091\n",
            "Epoch 84/200\n",
            "12/12 [==============================] - 1s 84ms/step - loss: 2.8907e-04 - val_loss: 0.0099\n",
            "Epoch 85/200\n",
            "12/12 [==============================] - 1s 84ms/step - loss: 3.4185e-04 - val_loss: 0.0084\n",
            "Epoch 86/200\n",
            "12/12 [==============================] - 1s 85ms/step - loss: 3.7342e-04 - val_loss: 0.0099\n",
            "Epoch 87/200\n",
            "12/12 [==============================] - 1s 84ms/step - loss: 2.8969e-04 - val_loss: 0.0090\n",
            "Epoch 88/200\n",
            "12/12 [==============================] - 1s 84ms/step - loss: 2.8248e-04 - val_loss: 0.0089\n",
            "Epoch 89/200\n",
            "12/12 [==============================] - 1s 85ms/step - loss: 2.6851e-04 - val_loss: 0.0087\n",
            "Epoch 90/200\n",
            "12/12 [==============================] - 1s 85ms/step - loss: 2.5869e-04 - val_loss: 0.0085\n",
            "Epoch 91/200\n",
            "12/12 [==============================] - 1s 84ms/step - loss: 2.6233e-04 - val_loss: 0.0086\n",
            "Epoch 92/200\n",
            "12/12 [==============================] - 1s 86ms/step - loss: 2.8646e-04 - val_loss: 0.0083\n",
            "Epoch 93/200\n",
            "12/12 [==============================] - 1s 86ms/step - loss: 2.5875e-04 - val_loss: 0.0087\n",
            "Epoch 94/200\n",
            "12/12 [==============================] - 1s 84ms/step - loss: 2.5211e-04 - val_loss: 0.0090\n",
            "Epoch 95/200\n",
            "12/12 [==============================] - 1s 85ms/step - loss: 2.8094e-04 - val_loss: 0.0079\n",
            "Epoch 96/200\n",
            "12/12 [==============================] - 1s 86ms/step - loss: 2.7352e-04 - val_loss: 0.0085\n",
            "Epoch 97/200\n",
            "12/12 [==============================] - 1s 85ms/step - loss: 2.6557e-04 - val_loss: 0.0073\n",
            "Epoch 98/200\n",
            "12/12 [==============================] - 1s 85ms/step - loss: 3.1694e-04 - val_loss: 0.0075\n",
            "Epoch 99/200\n",
            "12/12 [==============================] - 1s 86ms/step - loss: 2.8086e-04 - val_loss: 0.0088\n",
            "Epoch 100/200\n",
            "12/12 [==============================] - 1s 87ms/step - loss: 2.5717e-04 - val_loss: 0.0070\n",
            "Epoch 101/200\n",
            "12/12 [==============================] - 1s 85ms/step - loss: 3.0749e-04 - val_loss: 0.0085\n",
            "Epoch 102/200\n",
            "12/12 [==============================] - 1s 85ms/step - loss: 2.5073e-04 - val_loss: 0.0071\n",
            "Epoch 103/200\n",
            "12/12 [==============================] - 1s 85ms/step - loss: 2.7012e-04 - val_loss: 0.0076\n",
            "Epoch 104/200\n",
            "12/12 [==============================] - 1s 85ms/step - loss: 2.4671e-04 - val_loss: 0.0079\n",
            "Epoch 105/200\n",
            "12/12 [==============================] - 1s 85ms/step - loss: 2.5803e-04 - val_loss: 0.0072\n",
            "Epoch 106/200\n",
            "12/12 [==============================] - 1s 84ms/step - loss: 2.3609e-04 - val_loss: 0.0076\n",
            "Epoch 107/200\n",
            "12/12 [==============================] - 1s 86ms/step - loss: 2.5498e-04 - val_loss: 0.0072\n",
            "Epoch 108/200\n",
            "12/12 [==============================] - 1s 84ms/step - loss: 2.4096e-04 - val_loss: 0.0072\n",
            "Epoch 109/200\n",
            "12/12 [==============================] - 1s 85ms/step - loss: 3.0286e-04 - val_loss: 0.0077\n",
            "Epoch 110/200\n",
            "12/12 [==============================] - 1s 84ms/step - loss: 2.4859e-04 - val_loss: 0.0067\n",
            "Epoch 111/200\n",
            "12/12 [==============================] - 1s 84ms/step - loss: 2.5220e-04 - val_loss: 0.0080\n",
            "Epoch 112/200\n",
            "12/12 [==============================] - 1s 85ms/step - loss: 2.8599e-04 - val_loss: 0.0066\n",
            "Epoch 113/200\n",
            "12/12 [==============================] - 1s 83ms/step - loss: 2.4370e-04 - val_loss: 0.0063\n",
            "Epoch 114/200\n",
            "12/12 [==============================] - 1s 86ms/step - loss: 2.5742e-04 - val_loss: 0.0069\n",
            "Epoch 115/200\n",
            "12/12 [==============================] - 1s 86ms/step - loss: 2.4008e-04 - val_loss: 0.0070\n",
            "Epoch 116/200\n",
            "12/12 [==============================] - 1s 83ms/step - loss: 2.4156e-04 - val_loss: 0.0068\n",
            "Epoch 117/200\n",
            "12/12 [==============================] - 1s 85ms/step - loss: 2.3169e-04 - val_loss: 0.0066\n",
            "Epoch 118/200\n",
            "12/12 [==============================] - 1s 86ms/step - loss: 2.2018e-04 - val_loss: 0.0066\n",
            "Epoch 119/200\n",
            "12/12 [==============================] - 1s 87ms/step - loss: 2.1570e-04 - val_loss: 0.0068\n",
            "Epoch 120/200\n",
            "12/12 [==============================] - 1s 89ms/step - loss: 2.5583e-04 - val_loss: 0.0070\n",
            "Epoch 121/200\n",
            "12/12 [==============================] - 1s 86ms/step - loss: 2.7512e-04 - val_loss: 0.0058\n",
            "Epoch 122/200\n",
            "12/12 [==============================] - 1s 85ms/step - loss: 2.1841e-04 - val_loss: 0.0061\n",
            "Epoch 123/200\n",
            "12/12 [==============================] - 1s 86ms/step - loss: 2.1149e-04 - val_loss: 0.0063\n",
            "Epoch 124/200\n",
            "12/12 [==============================] - 1s 85ms/step - loss: 2.2978e-04 - val_loss: 0.0056\n",
            "Epoch 125/200\n",
            "12/12 [==============================] - 1s 85ms/step - loss: 2.2472e-04 - val_loss: 0.0061\n",
            "Epoch 126/200\n",
            "12/12 [==============================] - 1s 86ms/step - loss: 2.0307e-04 - val_loss: 0.0054\n",
            "Epoch 127/200\n",
            "12/12 [==============================] - 1s 85ms/step - loss: 2.5019e-04 - val_loss: 0.0061\n",
            "Epoch 128/200\n",
            "12/12 [==============================] - 1s 84ms/step - loss: 2.2681e-04 - val_loss: 0.0053\n",
            "Epoch 129/200\n",
            "12/12 [==============================] - 1s 84ms/step - loss: 2.0104e-04 - val_loss: 0.0052\n",
            "Epoch 130/200\n",
            "12/12 [==============================] - 1s 84ms/step - loss: 2.6004e-04 - val_loss: 0.0053\n",
            "Epoch 131/200\n",
            "12/12 [==============================] - 1s 85ms/step - loss: 2.3394e-04 - val_loss: 0.0048\n",
            "Epoch 132/200\n",
            "12/12 [==============================] - 1s 93ms/step - loss: 2.4667e-04 - val_loss: 0.0054\n",
            "Epoch 133/200\n",
            "12/12 [==============================] - 1s 97ms/step - loss: 2.3120e-04 - val_loss: 0.0048\n",
            "Epoch 134/200\n",
            "12/12 [==============================] - 1s 101ms/step - loss: 2.1189e-04 - val_loss: 0.0048\n",
            "Epoch 135/200\n",
            "12/12 [==============================] - 1s 96ms/step - loss: 2.1726e-04 - val_loss: 0.0049\n",
            "Epoch 136/200\n",
            "12/12 [==============================] - 1s 91ms/step - loss: 1.8555e-04 - val_loss: 0.0045\n",
            "Epoch 137/200\n",
            "12/12 [==============================] - 1s 89ms/step - loss: 1.9794e-04 - val_loss: 0.0048\n",
            "Epoch 138/200\n",
            "12/12 [==============================] - 1s 95ms/step - loss: 2.0404e-04 - val_loss: 0.0044\n",
            "Epoch 139/200\n",
            "12/12 [==============================] - 1s 94ms/step - loss: 1.9599e-04 - val_loss: 0.0046\n",
            "Epoch 140/200\n",
            "12/12 [==============================] - 1s 93ms/step - loss: 2.0384e-04 - val_loss: 0.0043\n",
            "Epoch 141/200\n",
            "12/12 [==============================] - 1s 90ms/step - loss: 3.4676e-04 - val_loss: 0.0049\n",
            "Epoch 142/200\n",
            "12/12 [==============================] - 1s 93ms/step - loss: 2.7071e-04 - val_loss: 0.0044\n",
            "Epoch 143/200\n",
            "12/12 [==============================] - 1s 96ms/step - loss: 1.7563e-04 - val_loss: 0.0043\n",
            "Epoch 144/200\n",
            "12/12 [==============================] - 1s 90ms/step - loss: 1.7817e-04 - val_loss: 0.0045\n",
            "Epoch 145/200\n",
            "12/12 [==============================] - 1s 88ms/step - loss: 2.1027e-04 - val_loss: 0.0043\n",
            "Epoch 146/200\n",
            "12/12 [==============================] - 1s 87ms/step - loss: 1.8968e-04 - val_loss: 0.0045\n",
            "Epoch 147/200\n",
            "12/12 [==============================] - 1s 85ms/step - loss: 1.7889e-04 - val_loss: 0.0041\n",
            "Epoch 148/200\n",
            "12/12 [==============================] - 1s 85ms/step - loss: 1.6602e-04 - val_loss: 0.0044\n",
            "Epoch 149/200\n",
            "12/12 [==============================] - 1s 84ms/step - loss: 1.9561e-04 - val_loss: 0.0041\n",
            "Epoch 150/200\n",
            "12/12 [==============================] - 1s 85ms/step - loss: 1.7361e-04 - val_loss: 0.0043\n",
            "Epoch 151/200\n",
            "12/12 [==============================] - 1s 85ms/step - loss: 1.8198e-04 - val_loss: 0.0042\n",
            "Epoch 152/200\n",
            "12/12 [==============================] - 1s 85ms/step - loss: 1.6600e-04 - val_loss: 0.0041\n",
            "Epoch 153/200\n",
            "12/12 [==============================] - 1s 84ms/step - loss: 1.6188e-04 - val_loss: 0.0041\n",
            "Epoch 154/200\n",
            "12/12 [==============================] - 1s 85ms/step - loss: 1.5771e-04 - val_loss: 0.0041\n",
            "Epoch 155/200\n",
            "12/12 [==============================] - 1s 85ms/step - loss: 1.7142e-04 - val_loss: 0.0039\n",
            "Epoch 156/200\n",
            "12/12 [==============================] - 1s 84ms/step - loss: 1.8164e-04 - val_loss: 0.0040\n",
            "Epoch 157/200\n",
            "12/12 [==============================] - 1s 85ms/step - loss: 1.6989e-04 - val_loss: 0.0038\n",
            "Epoch 158/200\n",
            "12/12 [==============================] - 1s 85ms/step - loss: 1.8557e-04 - val_loss: 0.0039\n",
            "Epoch 159/200\n",
            "12/12 [==============================] - 1s 86ms/step - loss: 1.9254e-04 - val_loss: 0.0041\n",
            "Epoch 160/200\n",
            "12/12 [==============================] - 1s 86ms/step - loss: 1.7792e-04 - val_loss: 0.0035\n",
            "Epoch 161/200\n",
            "12/12 [==============================] - 1s 85ms/step - loss: 2.4238e-04 - val_loss: 0.0041\n",
            "Epoch 162/200\n",
            "12/12 [==============================] - 1s 86ms/step - loss: 1.5690e-04 - val_loss: 0.0038\n",
            "Epoch 163/200\n",
            "12/12 [==============================] - 1s 84ms/step - loss: 1.5907e-04 - val_loss: 0.0040\n",
            "Epoch 164/200\n",
            "12/12 [==============================] - 1s 86ms/step - loss: 1.7762e-04 - val_loss: 0.0037\n",
            "Epoch 165/200\n",
            "12/12 [==============================] - 1s 87ms/step - loss: 1.6383e-04 - val_loss: 0.0039\n",
            "Epoch 166/200\n",
            "12/12 [==============================] - 1s 85ms/step - loss: 1.7284e-04 - val_loss: 0.0038\n",
            "Epoch 167/200\n",
            "12/12 [==============================] - 1s 84ms/step - loss: 1.5335e-04 - val_loss: 0.0036\n",
            "Epoch 168/200\n",
            "12/12 [==============================] - 1s 84ms/step - loss: 1.5556e-04 - val_loss: 0.0041\n",
            "Epoch 169/200\n",
            "12/12 [==============================] - 1s 85ms/step - loss: 1.9306e-04 - val_loss: 0.0037\n",
            "Epoch 170/200\n",
            "12/12 [==============================] - 1s 85ms/step - loss: 1.9962e-04 - val_loss: 0.0038\n",
            "Epoch 171/200\n",
            "12/12 [==============================] - 1s 86ms/step - loss: 1.6277e-04 - val_loss: 0.0036\n",
            "Epoch 172/200\n",
            "12/12 [==============================] - 1s 86ms/step - loss: 1.5376e-04 - val_loss: 0.0036\n",
            "Epoch 173/200\n",
            "12/12 [==============================] - 1s 87ms/step - loss: 1.4936e-04 - val_loss: 0.0036\n",
            "Epoch 174/200\n",
            "12/12 [==============================] - 1s 85ms/step - loss: 1.4827e-04 - val_loss: 0.0036\n",
            "Epoch 175/200\n",
            "12/12 [==============================] - 1s 86ms/step - loss: 1.5101e-04 - val_loss: 0.0035\n",
            "Epoch 176/200\n",
            "12/12 [==============================] - 1s 85ms/step - loss: 1.4743e-04 - val_loss: 0.0036\n",
            "Epoch 177/200\n",
            "12/12 [==============================] - 1s 86ms/step - loss: 1.4749e-04 - val_loss: 0.0034\n",
            "Epoch 178/200\n",
            "12/12 [==============================] - 1s 86ms/step - loss: 1.4540e-04 - val_loss: 0.0036\n",
            "Epoch 179/200\n",
            "12/12 [==============================] - 1s 85ms/step - loss: 1.5857e-04 - val_loss: 0.0034\n",
            "Epoch 180/200\n",
            "12/12 [==============================] - 1s 85ms/step - loss: 1.5155e-04 - val_loss: 0.0036\n",
            "Epoch 181/200\n",
            "12/12 [==============================] - 1s 87ms/step - loss: 1.5028e-04 - val_loss: 0.0035\n",
            "Epoch 182/200\n",
            "12/12 [==============================] - 1s 88ms/step - loss: 1.4709e-04 - val_loss: 0.0034\n",
            "Epoch 183/200\n",
            "12/12 [==============================] - 1s 88ms/step - loss: 1.4298e-04 - val_loss: 0.0035\n",
            "Epoch 184/200\n",
            "12/12 [==============================] - 1s 89ms/step - loss: 1.6214e-04 - val_loss: 0.0034\n",
            "Epoch 185/200\n",
            "12/12 [==============================] - 1s 92ms/step - loss: 1.4749e-04 - val_loss: 0.0034\n",
            "Epoch 186/200\n",
            "12/12 [==============================] - 1s 87ms/step - loss: 1.4509e-04 - val_loss: 0.0034\n",
            "Epoch 187/200\n",
            "12/12 [==============================] - 1s 91ms/step - loss: 1.6515e-04 - val_loss: 0.0032\n",
            "Epoch 188/200\n",
            "12/12 [==============================] - 1s 89ms/step - loss: 1.4745e-04 - val_loss: 0.0032\n",
            "Epoch 189/200\n",
            "12/12 [==============================] - 1s 86ms/step - loss: 1.4240e-04 - val_loss: 0.0036\n",
            "Epoch 190/200\n",
            "12/12 [==============================] - 1s 85ms/step - loss: 1.8235e-04 - val_loss: 0.0035\n",
            "Epoch 191/200\n",
            "12/12 [==============================] - 1s 86ms/step - loss: 1.4441e-04 - val_loss: 0.0033\n",
            "Epoch 192/200\n",
            "12/12 [==============================] - 1s 86ms/step - loss: 1.6118e-04 - val_loss: 0.0034\n",
            "Epoch 193/200\n",
            "12/12 [==============================] - 1s 87ms/step - loss: 1.5211e-04 - val_loss: 0.0033\n",
            "Epoch 194/200\n",
            "12/12 [==============================] - 1s 86ms/step - loss: 1.4082e-04 - val_loss: 0.0034\n",
            "Epoch 195/200\n",
            "12/12 [==============================] - 1s 86ms/step - loss: 1.4375e-04 - val_loss: 0.0033\n",
            "Epoch 196/200\n",
            "12/12 [==============================] - 1s 86ms/step - loss: 1.5391e-04 - val_loss: 0.0034\n",
            "Epoch 197/200\n",
            "12/12 [==============================] - 1s 84ms/step - loss: 1.7688e-04 - val_loss: 0.0033\n",
            "Epoch 198/200\n",
            "12/12 [==============================] - 1s 84ms/step - loss: 1.5158e-04 - val_loss: 0.0033\n",
            "Epoch 199/200\n",
            "12/12 [==============================] - 1s 86ms/step - loss: 1.4364e-04 - val_loss: 0.0031\n",
            "Epoch 200/200\n",
            "12/12 [==============================] - 1s 84ms/step - loss: 1.4105e-04 - val_loss: 0.0031\n"
          ]
        }
      ]
    },
    {
      "cell_type": "code",
      "source": [
        "plt.plot(r.history['loss'], label='train loss')\n",
        "plt.plot(r.history['val_loss'], label='val loss')\n",
        "plt.legend()\n",
        "plt.title('Loss')\n",
        "plt.show()\n",
        "plt.savefig('LossVal_loss')"
      ],
      "metadata": {
        "colab": {
          "base_uri": "https://localhost:8080/",
          "height": 298
        },
        "id": "EZMLD6IFbXfX",
        "outputId": "c7a8a5f6-ad33-4d69-e00a-4c283c350316"
      },
      "execution_count": 76,
      "outputs": [
        {
          "output_type": "display_data",
          "data": {
            "image/png": "[encoded data removed]",
            "text/plain": [
              "<Figure size 432x288 with 1 Axes>"
            ]
          },
          "metadata": {
            "needs_background": "light"
          }
        },
        {
          "output_type": "display_data",
          "data": {
            "text/plain": [
              "<Figure size 432x288 with 0 Axes>"
            ]
          },
          "metadata": {}
        }
      ]
    },
    {
      "cell_type": "code",
      "source": [
        "train_predict=model.predict(X_train)\n",
        "test_predict=model.predict(X_test)"
      ],
      "metadata": {
        "id": "N4wGqm2KgxsB"
      },
      "execution_count": 52,
      "outputs": []
    },
    {
      "cell_type": "code",
      "source": [
        "import math\n",
        "from sklearn.metrics import mean_squared_error\n",
        "math.sqrt(mean_squared_error(y_train,train_predict))"
      ],
      "metadata": {
        "colab": {
          "base_uri": "https://localhost:8080/"
        },
        "id": "xkMI_4SfbXl0",
        "outputId": "8f778502-97f5-45c6-e420-cb52780a08c6"
      },
      "execution_count": 53,
      "outputs": [
        {
          "output_type": "execute_result",
          "data": {
            "text/plain": [
              "0.011751315671796238"
            ]
          },
          "metadata": {},
          "execution_count": 53
        }
      ]
    },
    {
      "cell_type": "code",
      "source": [
        "math.sqrt(mean_squared_error(ytest,test_predict))"
      ],
      "metadata": {
        "colab": {
          "base_uri": "https://localhost:8080/"
        },
        "id": "JI6dN67FqL6H",
        "outputId": "5da45315-c4b3-4171-ae1e-dac3c8429881"
      },
      "execution_count": 54,
      "outputs": [
        {
          "output_type": "execute_result",
          "data": {
            "text/plain": [
              "0.055449513816076"
            ]
          },
          "metadata": {},
          "execution_count": 54
        }
      ]
    },
    {
      "cell_type": "code",
      "source": [
        "train_predict=scaler.inverse_transform(train_predict)\n",
        "test_predict=scaler.inverse_transform(test_predict)"
      ],
      "metadata": {
        "id": "m8UqZ3rVqh2A"
      },
      "execution_count": 55,
      "outputs": []
    },
    {
      "cell_type": "code",
      "source": [
        "look_back=100\n",
        "trainPredictPlot = np.empty_like(df1)\n",
        "trainPredictPlot[:, :] = np.nan\n",
        "trainPredictPlot[look_back:len(train_predict)+look_back, :] = train_predict\n",
        "# shift test predictions for plotting\n",
        "testPredictPlot = np.empty_like(df1)\n",
        "testPredictPlot[:, :] = np.nan\n",
        "testPredictPlot[len(train_predict)+(look_back*2)+1:len(df1)-1, :] = test_predict\n",
        "# plot baseline and predictions\n",
        "plt.plot(scaler.inverse_transform(df1), label='Input stock data')\n",
        "plt.plot(trainPredictPlot, label='trainPredict')\n",
        "plt.plot(testPredictPlot, label='testPredict')\n",
        "plt.legend()\n",
        "plt.show()\n",
        "plt.savefig('TrainTestPredict')"
      ],
      "metadata": {
        "colab": {
          "base_uri": "https://localhost:8080/",
          "height": 282
        },
        "id": "euO0HamnqiR-",
        "outputId": "fd4748f8-38ec-46c5-db2b-ee1424bb7e84"
      },
      "execution_count": 79,
      "outputs": [
        {
          "output_type": "display_data",
          "data": {
            "image/png": "[encoded data removed]",
            "text/plain": [
              "<Figure size 432x288 with 1 Axes>"
            ]
          },
          "metadata": {
            "needs_background": "light"
          }
        },
        {
          "output_type": "display_data",
          "data": {
            "text/plain": [
              "<Figure size 432x288 with 0 Axes>"
            ]
          },
          "metadata": {}
        }
      ]
    },
    {
      "cell_type": "markdown",
      "source": [
        "forcasting stocks of 30 days"
      ],
      "metadata": {
        "id": "38aIxV1zvaX2"
      }
    },
    {
      "cell_type": "code",
      "source": [
        "len(test_data)"
      ],
      "metadata": {
        "colab": {
          "base_uri": "https://localhost:8080/"
        },
        "id": "yo6opVByvULa",
        "outputId": "6bde7a7f-9c0d-4d58-b093-52b424c53bf8"
      },
      "execution_count": 57,
      "outputs": [
        {
          "output_type": "execute_result",
          "data": {
            "text/plain": [
              "441"
            ]
          },
          "metadata": {},
          "execution_count": 57
        }
      ]
    },
    {
      "cell_type": "code",
      "source": [
        "len(df1)"
      ],
      "metadata": {
        "colab": {
          "base_uri": "https://localhost:8080/"
        },
        "id": "BTDhUZkPaeur",
        "outputId": "8395be50-c780-4119-820d-9c6059228406"
      },
      "execution_count": 58,
      "outputs": [
        {
          "output_type": "execute_result",
          "data": {
            "text/plain": [
              "1258"
            ]
          },
          "metadata": {},
          "execution_count": 58
        }
      ]
    },
    {
      "cell_type": "code",
      "source": [
        "x_input=test_data[341:].reshape(1,-1)\n",
        "x_input.shape"
      ],
      "metadata": {
        "colab": {
          "base_uri": "https://localhost:8080/"
        },
        "id": "hc-kSgyGvuEm",
        "outputId": "278bc6b3-08cc-4827-abd6-9317ad42ee14"
      },
      "execution_count": 59,
      "outputs": [
        {
          "output_type": "execute_result",
          "data": {
            "text/plain": [
              "(1, 100)"
            ]
          },
          "metadata": {},
          "execution_count": 59
        }
      ]
    },
    {
      "cell_type": "code",
      "source": [
        "x_input"
      ],
      "metadata": {
        "colab": {
          "base_uri": "https://localhost:8080/"
        },
        "id": "dMmEUto2YXwv",
        "outputId": "1a0047cf-8c18-4607-bd2a-f8c57278c9d6"
      },
      "execution_count": 60,
      "outputs": [
        {
          "output_type": "execute_result",
          "data": {
            "text/plain": [
              "array([[0.10046337, 0.10073889, 0.09843456, 0.09830933, 0.09708203,\n",
              "        0.09773325, 0.10532248, 0.10584847, 0.11090795, 0.10857858,\n",
              "        0.0989856 , 0.09983719, 0.10356919, 0.10737633, 0.10715091,\n",
              "        0.10399499, 0.10194114, 0.10459612, 0.11591735, 0.11268629,\n",
              "        0.11438948, 0.11724483, 0.11887289, 0.12485911, 0.12090169,\n",
              "        0.11829681, 0.10552286, 0.10697558, 0.10339386, 0.10567314,\n",
              "        0.10507201, 0.09823419, 0.09041954, 0.09164684, 0.0977082 ,\n",
              "        0.10016281, 0.10038823, 0.09650595, 0.0878397 , 0.09014402,\n",
              "        0.08681277, 0.08969317, 0.08090169, 0.08583594, 0.08806512,\n",
              "        0.09129618, 0.09031935, 0.09009393, 0.08683782, 0.085335  ,\n",
              "        0.09247339, 0.09517846, 0.09946149, 0.10499687, 0.10624922,\n",
              "        0.10680025, 0.10482154, 0.10469631, 0.1063995 , 0.10522229,\n",
              "        0.11453976, 0.10760175, 0.10549781, 0.10815279, 0.11183469,\n",
              "        0.1105072 , 0.1113087 , 0.10920476, 0.1101315 , 0.10289292,\n",
              "        0.10276769, 0.10807765, 0.10810269, 0.11060739, 0.11684408,\n",
              "        0.12781465, 0.13452724, 0.13570445, 0.13668128, 0.13800877,\n",
              "        0.12515967, 0.13375078, 0.14642455, 0.14509706, 0.14256731,\n",
              "        0.1377583 , 0.14647464, 0.16115216, 0.17092048, 0.16961803,\n",
              "        0.181866  , 0.17257358, 0.16904195, 0.18149029, 0.16385723,\n",
              "        0.16105197, 0.15757044, 0.16568566, 0.17232311, 0.17392611]])"
            ]
          },
          "metadata": {},
          "execution_count": 60
        }
      ]
    },
    {
      "cell_type": "code",
      "source": [
        "temp_input=list(x_input)"
      ],
      "metadata": {
        "id": "qvjTaVq0vuPC"
      },
      "execution_count": 61,
      "outputs": []
    },
    {
      "cell_type": "code",
      "source": [
        "temp_input"
      ],
      "metadata": {
        "colab": {
          "base_uri": "https://localhost:8080/"
        },
        "id": "TrSQTXCVatU7",
        "outputId": "33abd0cc-9094-4deb-c216-05550a0639be"
      },
      "execution_count": 62,
      "outputs": [
        {
          "output_type": "execute_result",
          "data": {
            "text/plain": [
              "[array([0.10046337, 0.10073889, 0.09843456, 0.09830933, 0.09708203,\n",
              "        0.09773325, 0.10532248, 0.10584847, 0.11090795, 0.10857858,\n",
              "        0.0989856 , 0.09983719, 0.10356919, 0.10737633, 0.10715091,\n",
              "        0.10399499, 0.10194114, 0.10459612, 0.11591735, 0.11268629,\n",
              "        0.11438948, 0.11724483, 0.11887289, 0.12485911, 0.12090169,\n",
              "        0.11829681, 0.10552286, 0.10697558, 0.10339386, 0.10567314,\n",
              "        0.10507201, 0.09823419, 0.09041954, 0.09164684, 0.0977082 ,\n",
              "        0.10016281, 0.10038823, 0.09650595, 0.0878397 , 0.09014402,\n",
              "        0.08681277, 0.08969317, 0.08090169, 0.08583594, 0.08806512,\n",
              "        0.09129618, 0.09031935, 0.09009393, 0.08683782, 0.085335  ,\n",
              "        0.09247339, 0.09517846, 0.09946149, 0.10499687, 0.10624922,\n",
              "        0.10680025, 0.10482154, 0.10469631, 0.1063995 , 0.10522229,\n",
              "        0.11453976, 0.10760175, 0.10549781, 0.10815279, 0.11183469,\n",
              "        0.1105072 , 0.1113087 , 0.10920476, 0.1101315 , 0.10289292,\n",
              "        0.10276769, 0.10807765, 0.10810269, 0.11060739, 0.11684408,\n",
              "        0.12781465, 0.13452724, 0.13570445, 0.13668128, 0.13800877,\n",
              "        0.12515967, 0.13375078, 0.14642455, 0.14509706, 0.14256731,\n",
              "        0.1377583 , 0.14647464, 0.16115216, 0.17092048, 0.16961803,\n",
              "        0.181866  , 0.17257358, 0.16904195, 0.18149029, 0.16385723,\n",
              "        0.16105197, 0.15757044, 0.16568566, 0.17232311, 0.17392611])]"
            ]
          },
          "metadata": {},
          "execution_count": 62
        }
      ]
    },
    {
      "cell_type": "code",
      "source": [
        "temp_input=temp_input[0].tolist()"
      ],
      "metadata": {
        "id": "o8B2ESq9w_iU"
      },
      "execution_count": 63,
      "outputs": []
    },
    {
      "cell_type": "code",
      "source": [
        "temp_input"
      ],
      "metadata": {
        "colab": {
          "base_uri": "https://localhost:8080/"
        },
        "id": "FjhMbLOna2cj",
        "outputId": "68440cf6-8fe9-4274-d48c-05a794ebfc03"
      },
      "execution_count": 64,
      "outputs": [
        {
          "output_type": "execute_result",
          "data": {
            "text/plain": [
              "[0.10046336881653095,\n",
              " 0.10073888541014397,\n",
              " 0.09843456480901686,\n",
              " 0.0983093299937382,\n",
              " 0.09708202880400746,\n",
              " 0.0977332498434565,\n",
              " 0.10532247964934244,\n",
              " 0.10584846587351276,\n",
              " 0.11090795241077017,\n",
              " 0.10857858484658728,\n",
              " 0.09898559799624296,\n",
              " 0.09983719474013769,\n",
              " 0.10356919223544142,\n",
              " 0.10737633061991231,\n",
              " 0.10715090795241072,\n",
              " 0.10399499060738887,\n",
              " 0.101941139636819,\n",
              " 0.1045961177207263,\n",
              " 0.11591734502191609,\n",
              " 0.11268628678772696,\n",
              " 0.11438948027551654,\n",
              " 0.11724483406386971,\n",
              " 0.11887288666249218,\n",
              " 0.12485911083281148,\n",
              " 0.12090169067000628,\n",
              " 0.11829680651221036,\n",
              " 0.1055228553537883,\n",
              " 0.10697557921102063,\n",
              " 0.10339386349405133,\n",
              " 0.10567313713212267,\n",
              " 0.10507201001878513,\n",
              " 0.09823418910457105,\n",
              " 0.0904195366311834,\n",
              " 0.0916468378209142,\n",
              " 0.09770820288040072,\n",
              " 0.10016280525986221,\n",
              " 0.10038822792736374,\n",
              " 0.09650594865372569,\n",
              " 0.08783969943644326,\n",
              " 0.09014402003757044,\n",
              " 0.08681277395115838,\n",
              " 0.08969317470256727,\n",
              " 0.08090169067000619,\n",
              " 0.08583594239198494,\n",
              " 0.08806512210394485,\n",
              " 0.09129618033813391,\n",
              " 0.09031934877896053,\n",
              " 0.09009392611145894,\n",
              " 0.0868378209142141,\n",
              " 0.08533500313087033,\n",
              " 0.09247338760175322,\n",
              " 0.09517845961177201,\n",
              " 0.09946149029430179,\n",
              " 0.10499686912961798,\n",
              " 0.10624921728240444,\n",
              " 0.10680025046963049,\n",
              " 0.10482154038822789,\n",
              " 0.10469630557294918,\n",
              " 0.10639949906073881,\n",
              " 0.10522229179711956,\n",
              " 0.11453976205385091,\n",
              " 0.10760175328741389,\n",
              " 0.10549780839073258,\n",
              " 0.10815278647463994,\n",
              " 0.11183469004383217,\n",
              " 0.1105072010018785,\n",
              " 0.11130870381966185,\n",
              " 0.10920475892298054,\n",
              " 0.11013149655604254,\n",
              " 0.10289292423293667,\n",
              " 0.10276768941765807,\n",
              " 0.10807764558547273,\n",
              " 0.10810269254852845,\n",
              " 0.11060738885410137,\n",
              " 0.11684408265497809,\n",
              " 0.12781465247338758,\n",
              " 0.13452723857232307,\n",
              " 0.13570444583594238,\n",
              " 0.13668127739511576,\n",
              " 0.13800876643706944,\n",
              " 0.12515967438948022,\n",
              " 0.1337507827175955,\n",
              " 0.14642454602379462,\n",
              " 0.14509705698184094,\n",
              " 0.14256731371321218,\n",
              " 0.1377582968065122,\n",
              " 0.146474639949906,\n",
              " 0.1611521603005635,\n",
              " 0.17092047589229803,\n",
              " 0.16961803381340007,\n",
              " 0.18186599874765175,\n",
              " 0.17257357545397617,\n",
              " 0.16904195366311836,\n",
              " 0.1814902943018159,\n",
              " 0.1638572323105823,\n",
              " 0.16105197244834057,\n",
              " 0.1575704445835942,\n",
              " 0.1656856606136506,\n",
              " 0.1723231058234188,\n",
              " 0.17392611145898557]"
            ]
          },
          "metadata": {},
          "execution_count": 64
        }
      ]
    },
    {
      "cell_type": "code",
      "source": [
        "lst_output=[]\n",
        "n_steps=100\n",
        "i=0\n",
        "while(i<30):\n",
        "    \n",
        "    if(len(temp_input)>100):\n",
        "        #print(temp_input)\n",
        "        x_input=np.array(temp_input[1:])\n",
        "        print(\"{} day input {}\".format(i,x_input))\n",
        "        x_input=x_input.reshape(1,-1)\n",
        "        x_input = x_input.reshape((1, n_steps, 1))\n",
        "        #print(x_input)\n",
        "        yhat = model.predict(x_input, verbose=0)\n",
        "        print(\"{} day output {}\".format(i,yhat))\n",
        "        temp_input.extend(yhat[0].tolist())\n",
        "        temp_input=temp_input[1:]\n",
        "        #print(temp_input)\n",
        "        lst_output.extend(yhat.tolist())\n",
        "        i=i+1\n",
        "    else:\n",
        "        x_input = x_input.reshape((1, n_steps,1))\n",
        "        yhat = model.predict(x_input, verbose=0)\n",
        "        print(yhat[0])\n",
        "        temp_input.extend(yhat[0].tolist())\n",
        "        print(len(temp_input))\n",
        "        lst_output.extend(yhat.tolist())\n",
        "        i=i+1\n",
        "    \n",
        "\n",
        "print(lst_output)"
      ],
      "metadata": {
        "id": "9ZZsym-Ew_tM",
        "colab": {
          "base_uri": "https://localhost:8080/"
        },
        "outputId": "c6acfd6e-19a4-401e-d977-1912878c5205"
      },
      "execution_count": 65,
      "outputs": [
        {
          "output_type": "stream",
          "name": "stdout",
          "text": [
            "[0.1671236]\n",
            "101\n",
            "1 day input [0.10073889 0.09843456 0.09830933 0.09708203 0.09773325 0.10532248\n",
            " 0.10584847 0.11090795 0.10857858 0.0989856  0.09983719 0.10356919\n",
            " 0.10737633 0.10715091 0.10399499 0.10194114 0.10459612 0.11591735\n",
            " 0.11268629 0.11438948 0.11724483 0.11887289 0.12485911 0.12090169\n",
            " 0.11829681 0.10552286 0.10697558 0.10339386 0.10567314 0.10507201\n",
            " 0.09823419 0.09041954 0.09164684 0.0977082  0.10016281 0.10038823\n",
            " 0.09650595 0.0878397  0.09014402 0.08681277 0.08969317 0.08090169\n",
            " 0.08583594 0.08806512 0.09129618 0.09031935 0.09009393 0.08683782\n",
            " 0.085335   0.09247339 0.09517846 0.09946149 0.10499687 0.10624922\n",
            " 0.10680025 0.10482154 0.10469631 0.1063995  0.10522229 0.11453976\n",
            " 0.10760175 0.10549781 0.10815279 0.11183469 0.1105072  0.1113087\n",
            " 0.10920476 0.1101315  0.10289292 0.10276769 0.10807765 0.10810269\n",
            " 0.11060739 0.11684408 0.12781465 0.13452724 0.13570445 0.13668128\n",
            " 0.13800877 0.12515967 0.13375078 0.14642455 0.14509706 0.14256731\n",
            " 0.1377583  0.14647464 0.16115216 0.17092048 0.16961803 0.181866\n",
            " 0.17257358 0.16904195 0.18149029 0.16385723 0.16105197 0.15757044\n",
            " 0.16568566 0.17232311 0.17392611 0.1671236 ]\n",
            "1 day output [[0.17035492]]\n",
            "2 day input [0.09843456 0.09830933 0.09708203 0.09773325 0.10532248 0.10584847\n",
            " 0.11090795 0.10857858 0.0989856  0.09983719 0.10356919 0.10737633\n",
            " 0.10715091 0.10399499 0.10194114 0.10459612 0.11591735 0.11268629\n",
            " 0.11438948 0.11724483 0.11887289 0.12485911 0.12090169 0.11829681\n",
            " 0.10552286 0.10697558 0.10339386 0.10567314 0.10507201 0.09823419\n",
            " 0.09041954 0.09164684 0.0977082  0.10016281 0.10038823 0.09650595\n",
            " 0.0878397  0.09014402 0.08681277 0.08969317 0.08090169 0.08583594\n",
            " 0.08806512 0.09129618 0.09031935 0.09009393 0.08683782 0.085335\n",
            " 0.09247339 0.09517846 0.09946149 0.10499687 0.10624922 0.10680025\n",
            " 0.10482154 0.10469631 0.1063995  0.10522229 0.11453976 0.10760175\n",
            " 0.10549781 0.10815279 0.11183469 0.1105072  0.1113087  0.10920476\n",
            " 0.1101315  0.10289292 0.10276769 0.10807765 0.10810269 0.11060739\n",
            " 0.11684408 0.12781465 0.13452724 0.13570445 0.13668128 0.13800877\n",
            " 0.12515967 0.13375078 0.14642455 0.14509706 0.14256731 0.1377583\n",
            " 0.14647464 0.16115216 0.17092048 0.16961803 0.181866   0.17257358\n",
            " 0.16904195 0.18149029 0.16385723 0.16105197 0.15757044 0.16568566\n",
            " 0.17232311 0.17392611 0.1671236  0.17035492]\n",
            "2 day output [[0.17173639]]\n",
            "3 day input [0.09830933 0.09708203 0.09773325 0.10532248 0.10584847 0.11090795\n",
            " 0.10857858 0.0989856  0.09983719 0.10356919 0.10737633 0.10715091\n",
            " 0.10399499 0.10194114 0.10459612 0.11591735 0.11268629 0.11438948\n",
            " 0.11724483 0.11887289 0.12485911 0.12090169 0.11829681 0.10552286\n",
            " 0.10697558 0.10339386 0.10567314 0.10507201 0.09823419 0.09041954\n",
            " 0.09164684 0.0977082  0.10016281 0.10038823 0.09650595 0.0878397\n",
            " 0.09014402 0.08681277 0.08969317 0.08090169 0.08583594 0.08806512\n",
            " 0.09129618 0.09031935 0.09009393 0.08683782 0.085335   0.09247339\n",
            " 0.09517846 0.09946149 0.10499687 0.10624922 0.10680025 0.10482154\n",
            " 0.10469631 0.1063995  0.10522229 0.11453976 0.10760175 0.10549781\n",
            " 0.10815279 0.11183469 0.1105072  0.1113087  0.10920476 0.1101315\n",
            " 0.10289292 0.10276769 0.10807765 0.10810269 0.11060739 0.11684408\n",
            " 0.12781465 0.13452724 0.13570445 0.13668128 0.13800877 0.12515967\n",
            " 0.13375078 0.14642455 0.14509706 0.14256731 0.1377583  0.14647464\n",
            " 0.16115216 0.17092048 0.16961803 0.181866   0.17257358 0.16904195\n",
            " 0.18149029 0.16385723 0.16105197 0.15757044 0.16568566 0.17232311\n",
            " 0.17392611 0.1671236  0.17035492 0.17173639]\n",
            "3 day output [[0.1721913]]\n",
            "4 day input [0.09708203 0.09773325 0.10532248 0.10584847 0.11090795 0.10857858\n",
            " 0.0989856  0.09983719 0.10356919 0.10737633 0.10715091 0.10399499\n",
            " 0.10194114 0.10459612 0.11591735 0.11268629 0.11438948 0.11724483\n",
            " 0.11887289 0.12485911 0.12090169 0.11829681 0.10552286 0.10697558\n",
            " 0.10339386 0.10567314 0.10507201 0.09823419 0.09041954 0.09164684\n",
            " 0.0977082  0.10016281 0.10038823 0.09650595 0.0878397  0.09014402\n",
            " 0.08681277 0.08969317 0.08090169 0.08583594 0.08806512 0.09129618\n",
            " 0.09031935 0.09009393 0.08683782 0.085335   0.09247339 0.09517846\n",
            " 0.09946149 0.10499687 0.10624922 0.10680025 0.10482154 0.10469631\n",
            " 0.1063995  0.10522229 0.11453976 0.10760175 0.10549781 0.10815279\n",
            " 0.11183469 0.1105072  0.1113087  0.10920476 0.1101315  0.10289292\n",
            " 0.10276769 0.10807765 0.10810269 0.11060739 0.11684408 0.12781465\n",
            " 0.13452724 0.13570445 0.13668128 0.13800877 0.12515967 0.13375078\n",
            " 0.14642455 0.14509706 0.14256731 0.1377583  0.14647464 0.16115216\n",
            " 0.17092048 0.16961803 0.181866   0.17257358 0.16904195 0.18149029\n",
            " 0.16385723 0.16105197 0.15757044 0.16568566 0.17232311 0.17392611\n",
            " 0.1671236  0.17035492 0.17173639 0.17219131]\n",
            "4 day output [[0.172247]]\n",
            "5 day input [0.09773325 0.10532248 0.10584847 0.11090795 0.10857858 0.0989856\n",
            " 0.09983719 0.10356919 0.10737633 0.10715091 0.10399499 0.10194114\n",
            " 0.10459612 0.11591735 0.11268629 0.11438948 0.11724483 0.11887289\n",
            " 0.12485911 0.12090169 0.11829681 0.10552286 0.10697558 0.10339386\n",
            " 0.10567314 0.10507201 0.09823419 0.09041954 0.09164684 0.0977082\n",
            " 0.10016281 0.10038823 0.09650595 0.0878397  0.09014402 0.08681277\n",
            " 0.08969317 0.08090169 0.08583594 0.08806512 0.09129618 0.09031935\n",
            " 0.09009393 0.08683782 0.085335   0.09247339 0.09517846 0.09946149\n",
            " 0.10499687 0.10624922 0.10680025 0.10482154 0.10469631 0.1063995\n",
            " 0.10522229 0.11453976 0.10760175 0.10549781 0.10815279 0.11183469\n",
            " 0.1105072  0.1113087  0.10920476 0.1101315  0.10289292 0.10276769\n",
            " 0.10807765 0.10810269 0.11060739 0.11684408 0.12781465 0.13452724\n",
            " 0.13570445 0.13668128 0.13800877 0.12515967 0.13375078 0.14642455\n",
            " 0.14509706 0.14256731 0.1377583  0.14647464 0.16115216 0.17092048\n",
            " 0.16961803 0.181866   0.17257358 0.16904195 0.18149029 0.16385723\n",
            " 0.16105197 0.15757044 0.16568566 0.17232311 0.17392611 0.1671236\n",
            " 0.17035492 0.17173639 0.17219131 0.17224699]\n",
            "5 day output [[0.17209692]]\n",
            "6 day input [0.10532248 0.10584847 0.11090795 0.10857858 0.0989856  0.09983719\n",
            " 0.10356919 0.10737633 0.10715091 0.10399499 0.10194114 0.10459612\n",
            " 0.11591735 0.11268629 0.11438948 0.11724483 0.11887289 0.12485911\n",
            " 0.12090169 0.11829681 0.10552286 0.10697558 0.10339386 0.10567314\n",
            " 0.10507201 0.09823419 0.09041954 0.09164684 0.0977082  0.10016281\n",
            " 0.10038823 0.09650595 0.0878397  0.09014402 0.08681277 0.08969317\n",
            " 0.08090169 0.08583594 0.08806512 0.09129618 0.09031935 0.09009393\n",
            " 0.08683782 0.085335   0.09247339 0.09517846 0.09946149 0.10499687\n",
            " 0.10624922 0.10680025 0.10482154 0.10469631 0.1063995  0.10522229\n",
            " 0.11453976 0.10760175 0.10549781 0.10815279 0.11183469 0.1105072\n",
            " 0.1113087  0.10920476 0.1101315  0.10289292 0.10276769 0.10807765\n",
            " 0.10810269 0.11060739 0.11684408 0.12781465 0.13452724 0.13570445\n",
            " 0.13668128 0.13800877 0.12515967 0.13375078 0.14642455 0.14509706\n",
            " 0.14256731 0.1377583  0.14647464 0.16115216 0.17092048 0.16961803\n",
            " 0.181866   0.17257358 0.16904195 0.18149029 0.16385723 0.16105197\n",
            " 0.15757044 0.16568566 0.17232311 0.17392611 0.1671236  0.17035492\n",
            " 0.17173639 0.17219131 0.17224699 0.17209692]\n",
            "6 day output [[0.1717961]]\n",
            "7 day input [0.10584847 0.11090795 0.10857858 0.0989856  0.09983719 0.10356919\n",
            " 0.10737633 0.10715091 0.10399499 0.10194114 0.10459612 0.11591735\n",
            " 0.11268629 0.11438948 0.11724483 0.11887289 0.12485911 0.12090169\n",
            " 0.11829681 0.10552286 0.10697558 0.10339386 0.10567314 0.10507201\n",
            " 0.09823419 0.09041954 0.09164684 0.0977082  0.10016281 0.10038823\n",
            " 0.09650595 0.0878397  0.09014402 0.08681277 0.08969317 0.08090169\n",
            " 0.08583594 0.08806512 0.09129618 0.09031935 0.09009393 0.08683782\n",
            " 0.085335   0.09247339 0.09517846 0.09946149 0.10499687 0.10624922\n",
            " 0.10680025 0.10482154 0.10469631 0.1063995  0.10522229 0.11453976\n",
            " 0.10760175 0.10549781 0.10815279 0.11183469 0.1105072  0.1113087\n",
            " 0.10920476 0.1101315  0.10289292 0.10276769 0.10807765 0.10810269\n",
            " 0.11060739 0.11684408 0.12781465 0.13452724 0.13570445 0.13668128\n",
            " 0.13800877 0.12515967 0.13375078 0.14642455 0.14509706 0.14256731\n",
            " 0.1377583  0.14647464 0.16115216 0.17092048 0.16961803 0.181866\n",
            " 0.17257358 0.16904195 0.18149029 0.16385723 0.16105197 0.15757044\n",
            " 0.16568566 0.17232311 0.17392611 0.1671236  0.17035492 0.17173639\n",
            " 0.17219131 0.17224699 0.17209692 0.1717961 ]\n",
            "7 day output [[0.17137043]]\n",
            "8 day input [0.11090795 0.10857858 0.0989856  0.09983719 0.10356919 0.10737633\n",
            " 0.10715091 0.10399499 0.10194114 0.10459612 0.11591735 0.11268629\n",
            " 0.11438948 0.11724483 0.11887289 0.12485911 0.12090169 0.11829681\n",
            " 0.10552286 0.10697558 0.10339386 0.10567314 0.10507201 0.09823419\n",
            " 0.09041954 0.09164684 0.0977082  0.10016281 0.10038823 0.09650595\n",
            " 0.0878397  0.09014402 0.08681277 0.08969317 0.08090169 0.08583594\n",
            " 0.08806512 0.09129618 0.09031935 0.09009393 0.08683782 0.085335\n",
            " 0.09247339 0.09517846 0.09946149 0.10499687 0.10624922 0.10680025\n",
            " 0.10482154 0.10469631 0.1063995  0.10522229 0.11453976 0.10760175\n",
            " 0.10549781 0.10815279 0.11183469 0.1105072  0.1113087  0.10920476\n",
            " 0.1101315  0.10289292 0.10276769 0.10807765 0.10810269 0.11060739\n",
            " 0.11684408 0.12781465 0.13452724 0.13570445 0.13668128 0.13800877\n",
            " 0.12515967 0.13375078 0.14642455 0.14509706 0.14256731 0.1377583\n",
            " 0.14647464 0.16115216 0.17092048 0.16961803 0.181866   0.17257358\n",
            " 0.16904195 0.18149029 0.16385723 0.16105197 0.15757044 0.16568566\n",
            " 0.17232311 0.17392611 0.1671236  0.17035492 0.17173639 0.17219131\n",
            " 0.17224699 0.17209692 0.1717961  0.17137043]\n",
            "8 day output [[0.17085004]]\n",
            "9 day input [0.10857858 0.0989856  0.09983719 0.10356919 0.10737633 0.10715091\n",
            " 0.10399499 0.10194114 0.10459612 0.11591735 0.11268629 0.11438948\n",
            " 0.11724483 0.11887289 0.12485911 0.12090169 0.11829681 0.10552286\n",
            " 0.10697558 0.10339386 0.10567314 0.10507201 0.09823419 0.09041954\n",
            " 0.09164684 0.0977082  0.10016281 0.10038823 0.09650595 0.0878397\n",
            " 0.09014402 0.08681277 0.08969317 0.08090169 0.08583594 0.08806512\n",
            " 0.09129618 0.09031935 0.09009393 0.08683782 0.085335   0.09247339\n",
            " 0.09517846 0.09946149 0.10499687 0.10624922 0.10680025 0.10482154\n",
            " 0.10469631 0.1063995  0.10522229 0.11453976 0.10760175 0.10549781\n",
            " 0.10815279 0.11183469 0.1105072  0.1113087  0.10920476 0.1101315\n",
            " 0.10289292 0.10276769 0.10807765 0.10810269 0.11060739 0.11684408\n",
            " 0.12781465 0.13452724 0.13570445 0.13668128 0.13800877 0.12515967\n",
            " 0.13375078 0.14642455 0.14509706 0.14256731 0.1377583  0.14647464\n",
            " 0.16115216 0.17092048 0.16961803 0.181866   0.17257358 0.16904195\n",
            " 0.18149029 0.16385723 0.16105197 0.15757044 0.16568566 0.17232311\n",
            " 0.17392611 0.1671236  0.17035492 0.17173639 0.17219131 0.17224699\n",
            " 0.17209692 0.1717961  0.17137043 0.17085004]\n",
            "9 day output [[0.1702698]]\n",
            "10 day input [0.0989856  0.09983719 0.10356919 0.10737633 0.10715091 0.10399499\n",
            " 0.10194114 0.10459612 0.11591735 0.11268629 0.11438948 0.11724483\n",
            " 0.11887289 0.12485911 0.12090169 0.11829681 0.10552286 0.10697558\n",
            " 0.10339386 0.10567314 0.10507201 0.09823419 0.09041954 0.09164684\n",
            " 0.0977082  0.10016281 0.10038823 0.09650595 0.0878397  0.09014402\n",
            " 0.08681277 0.08969317 0.08090169 0.08583594 0.08806512 0.09129618\n",
            " 0.09031935 0.09009393 0.08683782 0.085335   0.09247339 0.09517846\n",
            " 0.09946149 0.10499687 0.10624922 0.10680025 0.10482154 0.10469631\n",
            " 0.1063995  0.10522229 0.11453976 0.10760175 0.10549781 0.10815279\n",
            " 0.11183469 0.1105072  0.1113087  0.10920476 0.1101315  0.10289292\n",
            " 0.10276769 0.10807765 0.10810269 0.11060739 0.11684408 0.12781465\n",
            " 0.13452724 0.13570445 0.13668128 0.13800877 0.12515967 0.13375078\n",
            " 0.14642455 0.14509706 0.14256731 0.1377583  0.14647464 0.16115216\n",
            " 0.17092048 0.16961803 0.181866   0.17257358 0.16904195 0.18149029\n",
            " 0.16385723 0.16105197 0.15757044 0.16568566 0.17232311 0.17392611\n",
            " 0.1671236  0.17035492 0.17173639 0.17219131 0.17224699 0.17209692\n",
            " 0.1717961  0.17137043 0.17085004 0.1702698 ]\n",
            "10 day output [[0.16966306]]\n",
            "11 day input [0.09983719 0.10356919 0.10737633 0.10715091 0.10399499 0.10194114\n",
            " 0.10459612 0.11591735 0.11268629 0.11438948 0.11724483 0.11887289\n",
            " 0.12485911 0.12090169 0.11829681 0.10552286 0.10697558 0.10339386\n",
            " 0.10567314 0.10507201 0.09823419 0.09041954 0.09164684 0.0977082\n",
            " 0.10016281 0.10038823 0.09650595 0.0878397  0.09014402 0.08681277\n",
            " 0.08969317 0.08090169 0.08583594 0.08806512 0.09129618 0.09031935\n",
            " 0.09009393 0.08683782 0.085335   0.09247339 0.09517846 0.09946149\n",
            " 0.10499687 0.10624922 0.10680025 0.10482154 0.10469631 0.1063995\n",
            " 0.10522229 0.11453976 0.10760175 0.10549781 0.10815279 0.11183469\n",
            " 0.1105072  0.1113087  0.10920476 0.1101315  0.10289292 0.10276769\n",
            " 0.10807765 0.10810269 0.11060739 0.11684408 0.12781465 0.13452724\n",
            " 0.13570445 0.13668128 0.13800877 0.12515967 0.13375078 0.14642455\n",
            " 0.14509706 0.14256731 0.1377583  0.14647464 0.16115216 0.17092048\n",
            " 0.16961803 0.181866   0.17257358 0.16904195 0.18149029 0.16385723\n",
            " 0.16105197 0.15757044 0.16568566 0.17232311 0.17392611 0.1671236\n",
            " 0.17035492 0.17173639 0.17219131 0.17224699 0.17209692 0.1717961\n",
            " 0.17137043 0.17085004 0.1702698  0.16966306]\n",
            "11 day output [[0.16905677]]\n",
            "12 day input [0.10356919 0.10737633 0.10715091 0.10399499 0.10194114 0.10459612\n",
            " 0.11591735 0.11268629 0.11438948 0.11724483 0.11887289 0.12485911\n",
            " 0.12090169 0.11829681 0.10552286 0.10697558 0.10339386 0.10567314\n",
            " 0.10507201 0.09823419 0.09041954 0.09164684 0.0977082  0.10016281\n",
            " 0.10038823 0.09650595 0.0878397  0.09014402 0.08681277 0.08969317\n",
            " 0.08090169 0.08583594 0.08806512 0.09129618 0.09031935 0.09009393\n",
            " 0.08683782 0.085335   0.09247339 0.09517846 0.09946149 0.10499687\n",
            " 0.10624922 0.10680025 0.10482154 0.10469631 0.1063995  0.10522229\n",
            " 0.11453976 0.10760175 0.10549781 0.10815279 0.11183469 0.1105072\n",
            " 0.1113087  0.10920476 0.1101315  0.10289292 0.10276769 0.10807765\n",
            " 0.10810269 0.11060739 0.11684408 0.12781465 0.13452724 0.13570445\n",
            " 0.13668128 0.13800877 0.12515967 0.13375078 0.14642455 0.14509706\n",
            " 0.14256731 0.1377583  0.14647464 0.16115216 0.17092048 0.16961803\n",
            " 0.181866   0.17257358 0.16904195 0.18149029 0.16385723 0.16105197\n",
            " 0.15757044 0.16568566 0.17232311 0.17392611 0.1671236  0.17035492\n",
            " 0.17173639 0.17219131 0.17224699 0.17209692 0.1717961  0.17137043\n",
            " 0.17085004 0.1702698  0.16966306 0.16905677]\n",
            "12 day output [[0.16846988]]\n",
            "13 day input [0.10737633 0.10715091 0.10399499 0.10194114 0.10459612 0.11591735\n",
            " 0.11268629 0.11438948 0.11724483 0.11887289 0.12485911 0.12090169\n",
            " 0.11829681 0.10552286 0.10697558 0.10339386 0.10567314 0.10507201\n",
            " 0.09823419 0.09041954 0.09164684 0.0977082  0.10016281 0.10038823\n",
            " 0.09650595 0.0878397  0.09014402 0.08681277 0.08969317 0.08090169\n",
            " 0.08583594 0.08806512 0.09129618 0.09031935 0.09009393 0.08683782\n",
            " 0.085335   0.09247339 0.09517846 0.09946149 0.10499687 0.10624922\n",
            " 0.10680025 0.10482154 0.10469631 0.1063995  0.10522229 0.11453976\n",
            " 0.10760175 0.10549781 0.10815279 0.11183469 0.1105072  0.1113087\n",
            " 0.10920476 0.1101315  0.10289292 0.10276769 0.10807765 0.10810269\n",
            " 0.11060739 0.11684408 0.12781465 0.13452724 0.13570445 0.13668128\n",
            " 0.13800877 0.12515967 0.13375078 0.14642455 0.14509706 0.14256731\n",
            " 0.1377583  0.14647464 0.16115216 0.17092048 0.16961803 0.181866\n",
            " 0.17257358 0.16904195 0.18149029 0.16385723 0.16105197 0.15757044\n",
            " 0.16568566 0.17232311 0.17392611 0.1671236  0.17035492 0.17173639\n",
            " 0.17219131 0.17224699 0.17209692 0.1717961  0.17137043 0.17085004\n",
            " 0.1702698  0.16966306 0.16905677 0.16846988]\n",
            "13 day output [[0.16791324]]\n",
            "14 day input [0.10715091 0.10399499 0.10194114 0.10459612 0.11591735 0.11268629\n",
            " 0.11438948 0.11724483 0.11887289 0.12485911 0.12090169 0.11829681\n",
            " 0.10552286 0.10697558 0.10339386 0.10567314 0.10507201 0.09823419\n",
            " 0.09041954 0.09164684 0.0977082  0.10016281 0.10038823 0.09650595\n",
            " 0.0878397  0.09014402 0.08681277 0.08969317 0.08090169 0.08583594\n",
            " 0.08806512 0.09129618 0.09031935 0.09009393 0.08683782 0.085335\n",
            " 0.09247339 0.09517846 0.09946149 0.10499687 0.10624922 0.10680025\n",
            " 0.10482154 0.10469631 0.1063995  0.10522229 0.11453976 0.10760175\n",
            " 0.10549781 0.10815279 0.11183469 0.1105072  0.1113087  0.10920476\n",
            " 0.1101315  0.10289292 0.10276769 0.10807765 0.10810269 0.11060739\n",
            " 0.11684408 0.12781465 0.13452724 0.13570445 0.13668128 0.13800877\n",
            " 0.12515967 0.13375078 0.14642455 0.14509706 0.14256731 0.1377583\n",
            " 0.14647464 0.16115216 0.17092048 0.16961803 0.181866   0.17257358\n",
            " 0.16904195 0.18149029 0.16385723 0.16105197 0.15757044 0.16568566\n",
            " 0.17232311 0.17392611 0.1671236  0.17035492 0.17173639 0.17219131\n",
            " 0.17224699 0.17209692 0.1717961  0.17137043 0.17085004 0.1702698\n",
            " 0.16966306 0.16905677 0.16846988 0.16791324]\n",
            "14 day output [[0.16739075]]\n",
            "15 day input [0.10399499 0.10194114 0.10459612 0.11591735 0.11268629 0.11438948\n",
            " 0.11724483 0.11887289 0.12485911 0.12090169 0.11829681 0.10552286\n",
            " 0.10697558 0.10339386 0.10567314 0.10507201 0.09823419 0.09041954\n",
            " 0.09164684 0.0977082  0.10016281 0.10038823 0.09650595 0.0878397\n",
            " 0.09014402 0.08681277 0.08969317 0.08090169 0.08583594 0.08806512\n",
            " 0.09129618 0.09031935 0.09009393 0.08683782 0.085335   0.09247339\n",
            " 0.09517846 0.09946149 0.10499687 0.10624922 0.10680025 0.10482154\n",
            " 0.10469631 0.1063995  0.10522229 0.11453976 0.10760175 0.10549781\n",
            " 0.10815279 0.11183469 0.1105072  0.1113087  0.10920476 0.1101315\n",
            " 0.10289292 0.10276769 0.10807765 0.10810269 0.11060739 0.11684408\n",
            " 0.12781465 0.13452724 0.13570445 0.13668128 0.13800877 0.12515967\n",
            " 0.13375078 0.14642455 0.14509706 0.14256731 0.1377583  0.14647464\n",
            " 0.16115216 0.17092048 0.16961803 0.181866   0.17257358 0.16904195\n",
            " 0.18149029 0.16385723 0.16105197 0.15757044 0.16568566 0.17232311\n",
            " 0.17392611 0.1671236  0.17035492 0.17173639 0.17219131 0.17224699\n",
            " 0.17209692 0.1717961  0.17137043 0.17085004 0.1702698  0.16966306\n",
            " 0.16905677 0.16846988 0.16791324 0.16739075]\n",
            "15 day output [[0.16690107]]\n",
            "16 day input [0.10194114 0.10459612 0.11591735 0.11268629 0.11438948 0.11724483\n",
            " 0.11887289 0.12485911 0.12090169 0.11829681 0.10552286 0.10697558\n",
            " 0.10339386 0.10567314 0.10507201 0.09823419 0.09041954 0.09164684\n",
            " 0.0977082  0.10016281 0.10038823 0.09650595 0.0878397  0.09014402\n",
            " 0.08681277 0.08969317 0.08090169 0.08583594 0.08806512 0.09129618\n",
            " 0.09031935 0.09009393 0.08683782 0.085335   0.09247339 0.09517846\n",
            " 0.09946149 0.10499687 0.10624922 0.10680025 0.10482154 0.10469631\n",
            " 0.1063995  0.10522229 0.11453976 0.10760175 0.10549781 0.10815279\n",
            " 0.11183469 0.1105072  0.1113087  0.10920476 0.1101315  0.10289292\n",
            " 0.10276769 0.10807765 0.10810269 0.11060739 0.11684408 0.12781465\n",
            " 0.13452724 0.13570445 0.13668128 0.13800877 0.12515967 0.13375078\n",
            " 0.14642455 0.14509706 0.14256731 0.1377583  0.14647464 0.16115216\n",
            " 0.17092048 0.16961803 0.181866   0.17257358 0.16904195 0.18149029\n",
            " 0.16385723 0.16105197 0.15757044 0.16568566 0.17232311 0.17392611\n",
            " 0.1671236  0.17035492 0.17173639 0.17219131 0.17224699 0.17209692\n",
            " 0.1717961  0.17137043 0.17085004 0.1702698  0.16966306 0.16905677\n",
            " 0.16846988 0.16791324 0.16739075 0.16690107]\n",
            "16 day output [[0.16643916]]\n",
            "17 day input [0.10459612 0.11591735 0.11268629 0.11438948 0.11724483 0.11887289\n",
            " 0.12485911 0.12090169 0.11829681 0.10552286 0.10697558 0.10339386\n",
            " 0.10567314 0.10507201 0.09823419 0.09041954 0.09164684 0.0977082\n",
            " 0.10016281 0.10038823 0.09650595 0.0878397  0.09014402 0.08681277\n",
            " 0.08969317 0.08090169 0.08583594 0.08806512 0.09129618 0.09031935\n",
            " 0.09009393 0.08683782 0.085335   0.09247339 0.09517846 0.09946149\n",
            " 0.10499687 0.10624922 0.10680025 0.10482154 0.10469631 0.1063995\n",
            " 0.10522229 0.11453976 0.10760175 0.10549781 0.10815279 0.11183469\n",
            " 0.1105072  0.1113087  0.10920476 0.1101315  0.10289292 0.10276769\n",
            " 0.10807765 0.10810269 0.11060739 0.11684408 0.12781465 0.13452724\n",
            " 0.13570445 0.13668128 0.13800877 0.12515967 0.13375078 0.14642455\n",
            " 0.14509706 0.14256731 0.1377583  0.14647464 0.16115216 0.17092048\n",
            " 0.16961803 0.181866   0.17257358 0.16904195 0.18149029 0.16385723\n",
            " 0.16105197 0.15757044 0.16568566 0.17232311 0.17392611 0.1671236\n",
            " 0.17035492 0.17173639 0.17219131 0.17224699 0.17209692 0.1717961\n",
            " 0.17137043 0.17085004 0.1702698  0.16966306 0.16905677 0.16846988\n",
            " 0.16791324 0.16739075 0.16690107 0.16643916]\n",
            "17 day output [[0.16599804]]\n",
            "18 day input [0.11591735 0.11268629 0.11438948 0.11724483 0.11887289 0.12485911\n",
            " 0.12090169 0.11829681 0.10552286 0.10697558 0.10339386 0.10567314\n",
            " 0.10507201 0.09823419 0.09041954 0.09164684 0.0977082  0.10016281\n",
            " 0.10038823 0.09650595 0.0878397  0.09014402 0.08681277 0.08969317\n",
            " 0.08090169 0.08583594 0.08806512 0.09129618 0.09031935 0.09009393\n",
            " 0.08683782 0.085335   0.09247339 0.09517846 0.09946149 0.10499687\n",
            " 0.10624922 0.10680025 0.10482154 0.10469631 0.1063995  0.10522229\n",
            " 0.11453976 0.10760175 0.10549781 0.10815279 0.11183469 0.1105072\n",
            " 0.1113087  0.10920476 0.1101315  0.10289292 0.10276769 0.10807765\n",
            " 0.10810269 0.11060739 0.11684408 0.12781465 0.13452724 0.13570445\n",
            " 0.13668128 0.13800877 0.12515967 0.13375078 0.14642455 0.14509706\n",
            " 0.14256731 0.1377583  0.14647464 0.16115216 0.17092048 0.16961803\n",
            " 0.181866   0.17257358 0.16904195 0.18149029 0.16385723 0.16105197\n",
            " 0.15757044 0.16568566 0.17232311 0.17392611 0.1671236  0.17035492\n",
            " 0.17173639 0.17219131 0.17224699 0.17209692 0.1717961  0.17137043\n",
            " 0.17085004 0.1702698  0.16966306 0.16905677 0.16846988 0.16791324\n",
            " 0.16739075 0.16690107 0.16643916 0.16599804]\n",
            "18 day output [[0.16557004]]\n",
            "19 day input [0.11268629 0.11438948 0.11724483 0.11887289 0.12485911 0.12090169\n",
            " 0.11829681 0.10552286 0.10697558 0.10339386 0.10567314 0.10507201\n",
            " 0.09823419 0.09041954 0.09164684 0.0977082  0.10016281 0.10038823\n",
            " 0.09650595 0.0878397  0.09014402 0.08681277 0.08969317 0.08090169\n",
            " 0.08583594 0.08806512 0.09129618 0.09031935 0.09009393 0.08683782\n",
            " 0.085335   0.09247339 0.09517846 0.09946149 0.10499687 0.10624922\n",
            " 0.10680025 0.10482154 0.10469631 0.1063995  0.10522229 0.11453976\n",
            " 0.10760175 0.10549781 0.10815279 0.11183469 0.1105072  0.1113087\n",
            " 0.10920476 0.1101315  0.10289292 0.10276769 0.10807765 0.10810269\n",
            " 0.11060739 0.11684408 0.12781465 0.13452724 0.13570445 0.13668128\n",
            " 0.13800877 0.12515967 0.13375078 0.14642455 0.14509706 0.14256731\n",
            " 0.1377583  0.14647464 0.16115216 0.17092048 0.16961803 0.181866\n",
            " 0.17257358 0.16904195 0.18149029 0.16385723 0.16105197 0.15757044\n",
            " 0.16568566 0.17232311 0.17392611 0.1671236  0.17035492 0.17173639\n",
            " 0.17219131 0.17224699 0.17209692 0.1717961  0.17137043 0.17085004\n",
            " 0.1702698  0.16966306 0.16905677 0.16846988 0.16791324 0.16739075\n",
            " 0.16690107 0.16643916 0.16599804 0.16557004]\n",
            "19 day output [[0.16514798]]\n",
            "20 day input [0.11438948 0.11724483 0.11887289 0.12485911 0.12090169 0.11829681\n",
            " 0.10552286 0.10697558 0.10339386 0.10567314 0.10507201 0.09823419\n",
            " 0.09041954 0.09164684 0.0977082  0.10016281 0.10038823 0.09650595\n",
            " 0.0878397  0.09014402 0.08681277 0.08969317 0.08090169 0.08583594\n",
            " 0.08806512 0.09129618 0.09031935 0.09009393 0.08683782 0.085335\n",
            " 0.09247339 0.09517846 0.09946149 0.10499687 0.10624922 0.10680025\n",
            " 0.10482154 0.10469631 0.1063995  0.10522229 0.11453976 0.10760175\n",
            " 0.10549781 0.10815279 0.11183469 0.1105072  0.1113087  0.10920476\n",
            " 0.1101315  0.10289292 0.10276769 0.10807765 0.10810269 0.11060739\n",
            " 0.11684408 0.12781465 0.13452724 0.13570445 0.13668128 0.13800877\n",
            " 0.12515967 0.13375078 0.14642455 0.14509706 0.14256731 0.1377583\n",
            " 0.14647464 0.16115216 0.17092048 0.16961803 0.181866   0.17257358\n",
            " 0.16904195 0.18149029 0.16385723 0.16105197 0.15757044 0.16568566\n",
            " 0.17232311 0.17392611 0.1671236  0.17035492 0.17173639 0.17219131\n",
            " 0.17224699 0.17209692 0.1717961  0.17137043 0.17085004 0.1702698\n",
            " 0.16966306 0.16905677 0.16846988 0.16791324 0.16739075 0.16690107\n",
            " 0.16643916 0.16599804 0.16557004 0.16514798]\n",
            "20 day output [[0.16472597]]\n",
            "21 day input [0.11724483 0.11887289 0.12485911 0.12090169 0.11829681 0.10552286\n",
            " 0.10697558 0.10339386 0.10567314 0.10507201 0.09823419 0.09041954\n",
            " 0.09164684 0.0977082  0.10016281 0.10038823 0.09650595 0.0878397\n",
            " 0.09014402 0.08681277 0.08969317 0.08090169 0.08583594 0.08806512\n",
            " 0.09129618 0.09031935 0.09009393 0.08683782 0.085335   0.09247339\n",
            " 0.09517846 0.09946149 0.10499687 0.10624922 0.10680025 0.10482154\n",
            " 0.10469631 0.1063995  0.10522229 0.11453976 0.10760175 0.10549781\n",
            " 0.10815279 0.11183469 0.1105072  0.1113087  0.10920476 0.1101315\n",
            " 0.10289292 0.10276769 0.10807765 0.10810269 0.11060739 0.11684408\n",
            " 0.12781465 0.13452724 0.13570445 0.13668128 0.13800877 0.12515967\n",
            " 0.13375078 0.14642455 0.14509706 0.14256731 0.1377583  0.14647464\n",
            " 0.16115216 0.17092048 0.16961803 0.181866   0.17257358 0.16904195\n",
            " 0.18149029 0.16385723 0.16105197 0.15757044 0.16568566 0.17232311\n",
            " 0.17392611 0.1671236  0.17035492 0.17173639 0.17219131 0.17224699\n",
            " 0.17209692 0.1717961  0.17137043 0.17085004 0.1702698  0.16966306\n",
            " 0.16905677 0.16846988 0.16791324 0.16739075 0.16690107 0.16643916\n",
            " 0.16599804 0.16557004 0.16514798 0.16472597]\n",
            "21 day output [[0.16429971]]\n",
            "22 day input [0.11887289 0.12485911 0.12090169 0.11829681 0.10552286 0.10697558\n",
            " 0.10339386 0.10567314 0.10507201 0.09823419 0.09041954 0.09164684\n",
            " 0.0977082  0.10016281 0.10038823 0.09650595 0.0878397  0.09014402\n",
            " 0.08681277 0.08969317 0.08090169 0.08583594 0.08806512 0.09129618\n",
            " 0.09031935 0.09009393 0.08683782 0.085335   0.09247339 0.09517846\n",
            " 0.09946149 0.10499687 0.10624922 0.10680025 0.10482154 0.10469631\n",
            " 0.1063995  0.10522229 0.11453976 0.10760175 0.10549781 0.10815279\n",
            " 0.11183469 0.1105072  0.1113087  0.10920476 0.1101315  0.10289292\n",
            " 0.10276769 0.10807765 0.10810269 0.11060739 0.11684408 0.12781465\n",
            " 0.13452724 0.13570445 0.13668128 0.13800877 0.12515967 0.13375078\n",
            " 0.14642455 0.14509706 0.14256731 0.1377583  0.14647464 0.16115216\n",
            " 0.17092048 0.16961803 0.181866   0.17257358 0.16904195 0.18149029\n",
            " 0.16385723 0.16105197 0.15757044 0.16568566 0.17232311 0.17392611\n",
            " 0.1671236  0.17035492 0.17173639 0.17219131 0.17224699 0.17209692\n",
            " 0.1717961  0.17137043 0.17085004 0.1702698  0.16966306 0.16905677\n",
            " 0.16846988 0.16791324 0.16739075 0.16690107 0.16643916 0.16599804\n",
            " 0.16557004 0.16514798 0.16472597 0.16429971]\n",
            "22 day output [[0.16386673]]\n",
            "23 day input [0.12485911 0.12090169 0.11829681 0.10552286 0.10697558 0.10339386\n",
            " 0.10567314 0.10507201 0.09823419 0.09041954 0.09164684 0.0977082\n",
            " 0.10016281 0.10038823 0.09650595 0.0878397  0.09014402 0.08681277\n",
            " 0.08969317 0.08090169 0.08583594 0.08806512 0.09129618 0.09031935\n",
            " 0.09009393 0.08683782 0.085335   0.09247339 0.09517846 0.09946149\n",
            " 0.10499687 0.10624922 0.10680025 0.10482154 0.10469631 0.1063995\n",
            " 0.10522229 0.11453976 0.10760175 0.10549781 0.10815279 0.11183469\n",
            " 0.1105072  0.1113087  0.10920476 0.1101315  0.10289292 0.10276769\n",
            " 0.10807765 0.10810269 0.11060739 0.11684408 0.12781465 0.13452724\n",
            " 0.13570445 0.13668128 0.13800877 0.12515967 0.13375078 0.14642455\n",
            " 0.14509706 0.14256731 0.1377583  0.14647464 0.16115216 0.17092048\n",
            " 0.16961803 0.181866   0.17257358 0.16904195 0.18149029 0.16385723\n",
            " 0.16105197 0.15757044 0.16568566 0.17232311 0.17392611 0.1671236\n",
            " 0.17035492 0.17173639 0.17219131 0.17224699 0.17209692 0.1717961\n",
            " 0.17137043 0.17085004 0.1702698  0.16966306 0.16905677 0.16846988\n",
            " 0.16791324 0.16739075 0.16690107 0.16643916 0.16599804 0.16557004\n",
            " 0.16514798 0.16472597 0.16429971 0.16386673]\n",
            "23 day output [[0.16342622]]\n",
            "24 day input [0.12090169 0.11829681 0.10552286 0.10697558 0.10339386 0.10567314\n",
            " 0.10507201 0.09823419 0.09041954 0.09164684 0.0977082  0.10016281\n",
            " 0.10038823 0.09650595 0.0878397  0.09014402 0.08681277 0.08969317\n",
            " 0.08090169 0.08583594 0.08806512 0.09129618 0.09031935 0.09009393\n",
            " 0.08683782 0.085335   0.09247339 0.09517846 0.09946149 0.10499687\n",
            " 0.10624922 0.10680025 0.10482154 0.10469631 0.1063995  0.10522229\n",
            " 0.11453976 0.10760175 0.10549781 0.10815279 0.11183469 0.1105072\n",
            " 0.1113087  0.10920476 0.1101315  0.10289292 0.10276769 0.10807765\n",
            " 0.10810269 0.11060739 0.11684408 0.12781465 0.13452724 0.13570445\n",
            " 0.13668128 0.13800877 0.12515967 0.13375078 0.14642455 0.14509706\n",
            " 0.14256731 0.1377583  0.14647464 0.16115216 0.17092048 0.16961803\n",
            " 0.181866   0.17257358 0.16904195 0.18149029 0.16385723 0.16105197\n",
            " 0.15757044 0.16568566 0.17232311 0.17392611 0.1671236  0.17035492\n",
            " 0.17173639 0.17219131 0.17224699 0.17209692 0.1717961  0.17137043\n",
            " 0.17085004 0.1702698  0.16966306 0.16905677 0.16846988 0.16791324\n",
            " 0.16739075 0.16690107 0.16643916 0.16599804 0.16557004 0.16514798\n",
            " 0.16472597 0.16429971 0.16386673 0.16342622]\n",
            "24 day output [[0.16297889]]\n",
            "25 day input [0.11829681 0.10552286 0.10697558 0.10339386 0.10567314 0.10507201\n",
            " 0.09823419 0.09041954 0.09164684 0.0977082  0.10016281 0.10038823\n",
            " 0.09650595 0.0878397  0.09014402 0.08681277 0.08969317 0.08090169\n",
            " 0.08583594 0.08806512 0.09129618 0.09031935 0.09009393 0.08683782\n",
            " 0.085335   0.09247339 0.09517846 0.09946149 0.10499687 0.10624922\n",
            " 0.10680025 0.10482154 0.10469631 0.1063995  0.10522229 0.11453976\n",
            " 0.10760175 0.10549781 0.10815279 0.11183469 0.1105072  0.1113087\n",
            " 0.10920476 0.1101315  0.10289292 0.10276769 0.10807765 0.10810269\n",
            " 0.11060739 0.11684408 0.12781465 0.13452724 0.13570445 0.13668128\n",
            " 0.13800877 0.12515967 0.13375078 0.14642455 0.14509706 0.14256731\n",
            " 0.1377583  0.14647464 0.16115216 0.17092048 0.16961803 0.181866\n",
            " 0.17257358 0.16904195 0.18149029 0.16385723 0.16105197 0.15757044\n",
            " 0.16568566 0.17232311 0.17392611 0.1671236  0.17035492 0.17173639\n",
            " 0.17219131 0.17224699 0.17209692 0.1717961  0.17137043 0.17085004\n",
            " 0.1702698  0.16966306 0.16905677 0.16846988 0.16791324 0.16739075\n",
            " 0.16690107 0.16643916 0.16599804 0.16557004 0.16514798 0.16472597\n",
            " 0.16429971 0.16386673 0.16342622 0.16297889]\n",
            "25 day output [[0.1625265]]\n",
            "26 day input [0.10552286 0.10697558 0.10339386 0.10567314 0.10507201 0.09823419\n",
            " 0.09041954 0.09164684 0.0977082  0.10016281 0.10038823 0.09650595\n",
            " 0.0878397  0.09014402 0.08681277 0.08969317 0.08090169 0.08583594\n",
            " 0.08806512 0.09129618 0.09031935 0.09009393 0.08683782 0.085335\n",
            " 0.09247339 0.09517846 0.09946149 0.10499687 0.10624922 0.10680025\n",
            " 0.10482154 0.10469631 0.1063995  0.10522229 0.11453976 0.10760175\n",
            " 0.10549781 0.10815279 0.11183469 0.1105072  0.1113087  0.10920476\n",
            " 0.1101315  0.10289292 0.10276769 0.10807765 0.10810269 0.11060739\n",
            " 0.11684408 0.12781465 0.13452724 0.13570445 0.13668128 0.13800877\n",
            " 0.12515967 0.13375078 0.14642455 0.14509706 0.14256731 0.1377583\n",
            " 0.14647464 0.16115216 0.17092048 0.16961803 0.181866   0.17257358\n",
            " 0.16904195 0.18149029 0.16385723 0.16105197 0.15757044 0.16568566\n",
            " 0.17232311 0.17392611 0.1671236  0.17035492 0.17173639 0.17219131\n",
            " 0.17224699 0.17209692 0.1717961  0.17137043 0.17085004 0.1702698\n",
            " 0.16966306 0.16905677 0.16846988 0.16791324 0.16739075 0.16690107\n",
            " 0.16643916 0.16599804 0.16557004 0.16514798 0.16472597 0.16429971\n",
            " 0.16386673 0.16342622 0.16297889 0.1625265 ]\n",
            "26 day output [[0.16207147]]\n",
            "27 day input [0.10697558 0.10339386 0.10567314 0.10507201 0.09823419 0.09041954\n",
            " 0.09164684 0.0977082  0.10016281 0.10038823 0.09650595 0.0878397\n",
            " 0.09014402 0.08681277 0.08969317 0.08090169 0.08583594 0.08806512\n",
            " 0.09129618 0.09031935 0.09009393 0.08683782 0.085335   0.09247339\n",
            " 0.09517846 0.09946149 0.10499687 0.10624922 0.10680025 0.10482154\n",
            " 0.10469631 0.1063995  0.10522229 0.11453976 0.10760175 0.10549781\n",
            " 0.10815279 0.11183469 0.1105072  0.1113087  0.10920476 0.1101315\n",
            " 0.10289292 0.10276769 0.10807765 0.10810269 0.11060739 0.11684408\n",
            " 0.12781465 0.13452724 0.13570445 0.13668128 0.13800877 0.12515967\n",
            " 0.13375078 0.14642455 0.14509706 0.14256731 0.1377583  0.14647464\n",
            " 0.16115216 0.17092048 0.16961803 0.181866   0.17257358 0.16904195\n",
            " 0.18149029 0.16385723 0.16105197 0.15757044 0.16568566 0.17232311\n",
            " 0.17392611 0.1671236  0.17035492 0.17173639 0.17219131 0.17224699\n",
            " 0.17209692 0.1717961  0.17137043 0.17085004 0.1702698  0.16966306\n",
            " 0.16905677 0.16846988 0.16791324 0.16739075 0.16690107 0.16643916\n",
            " 0.16599804 0.16557004 0.16514798 0.16472597 0.16429971 0.16386673\n",
            " 0.16342622 0.16297889 0.1625265  0.16207147]\n",
            "27 day output [[0.16161668]]\n",
            "28 day input [0.10339386 0.10567314 0.10507201 0.09823419 0.09041954 0.09164684\n",
            " 0.0977082  0.10016281 0.10038823 0.09650595 0.0878397  0.09014402\n",
            " 0.08681277 0.08969317 0.08090169 0.08583594 0.08806512 0.09129618\n",
            " 0.09031935 0.09009393 0.08683782 0.085335   0.09247339 0.09517846\n",
            " 0.09946149 0.10499687 0.10624922 0.10680025 0.10482154 0.10469631\n",
            " 0.1063995  0.10522229 0.11453976 0.10760175 0.10549781 0.10815279\n",
            " 0.11183469 0.1105072  0.1113087  0.10920476 0.1101315  0.10289292\n",
            " 0.10276769 0.10807765 0.10810269 0.11060739 0.11684408 0.12781465\n",
            " 0.13452724 0.13570445 0.13668128 0.13800877 0.12515967 0.13375078\n",
            " 0.14642455 0.14509706 0.14256731 0.1377583  0.14647464 0.16115216\n",
            " 0.17092048 0.16961803 0.181866   0.17257358 0.16904195 0.18149029\n",
            " 0.16385723 0.16105197 0.15757044 0.16568566 0.17232311 0.17392611\n",
            " 0.1671236  0.17035492 0.17173639 0.17219131 0.17224699 0.17209692\n",
            " 0.1717961  0.17137043 0.17085004 0.1702698  0.16966306 0.16905677\n",
            " 0.16846988 0.16791324 0.16739075 0.16690107 0.16643916 0.16599804\n",
            " 0.16557004 0.16514798 0.16472597 0.16429971 0.16386673 0.16342622\n",
            " 0.16297889 0.1625265  0.16207147 0.16161668]\n",
            "28 day output [[0.16116479]]\n",
            "29 day input [0.10567314 0.10507201 0.09823419 0.09041954 0.09164684 0.0977082\n",
            " 0.10016281 0.10038823 0.09650595 0.0878397  0.09014402 0.08681277\n",
            " 0.08969317 0.08090169 0.08583594 0.08806512 0.09129618 0.09031935\n",
            " 0.09009393 0.08683782 0.085335   0.09247339 0.09517846 0.09946149\n",
            " 0.10499687 0.10624922 0.10680025 0.10482154 0.10469631 0.1063995\n",
            " 0.10522229 0.11453976 0.10760175 0.10549781 0.10815279 0.11183469\n",
            " 0.1105072  0.1113087  0.10920476 0.1101315  0.10289292 0.10276769\n",
            " 0.10807765 0.10810269 0.11060739 0.11684408 0.12781465 0.13452724\n",
            " 0.13570445 0.13668128 0.13800877 0.12515967 0.13375078 0.14642455\n",
            " 0.14509706 0.14256731 0.1377583  0.14647464 0.16115216 0.17092048\n",
            " 0.16961803 0.181866   0.17257358 0.16904195 0.18149029 0.16385723\n",
            " 0.16105197 0.15757044 0.16568566 0.17232311 0.17392611 0.1671236\n",
            " 0.17035492 0.17173639 0.17219131 0.17224699 0.17209692 0.1717961\n",
            " 0.17137043 0.17085004 0.1702698  0.16966306 0.16905677 0.16846988\n",
            " 0.16791324 0.16739075 0.16690107 0.16643916 0.16599804 0.16557004\n",
            " 0.16514798 0.16472597 0.16429971 0.16386673 0.16342622 0.16297889\n",
            " 0.1625265  0.16207147 0.16161668 0.16116479]\n",
            "29 day output [[0.16071843]]\n",
            "[[0.16712360084056854], [0.1703549176454544], [0.17173638939857483], [0.1721913069486618], [0.1722469925880432], [0.17209692299365997], [0.17179609835147858], [0.17137043178081512], [0.17085003852844238], [0.17026980221271515], [0.16966305673122406], [0.16905677318572998], [0.1684698760509491], [0.16791324317455292], [0.16739074885845184], [0.16690106689929962], [0.16643916070461273], [0.16599804162979126], [0.16557003557682037], [0.16514797508716583], [0.16472597420215607], [0.16429971158504486], [0.16386672854423523], [0.1634262204170227], [0.1629788875579834], [0.16252650320529938], [0.16207146644592285], [0.16161668300628662], [0.161164790391922], [0.1607184261083603]]\n"
          ]
        }
      ]
    },
    {
      "cell_type": "code",
      "source": [
        "day_new=np.arange(1,101)\n",
        "day_pred=np.arange(101,131)"
      ],
      "metadata": {
        "id": "RLklVZbUw_zg"
      },
      "execution_count": 66,
      "outputs": []
    },
    {
      "cell_type": "code",
      "source": [
        "plt.plot(day_new,scaler.inverse_transform(df1[1158:]), label='100days input stock prices')\n",
        "plt.plot(day_pred,scaler.inverse_transform(lst_output), label='30days predicted stocks')\n",
        "plt.legend()\n",
        "plt.title('30 days predicted stock prices')\n",
        "plt.savefig('predicted_stockprices')"
      ],
      "metadata": {
        "colab": {
          "base_uri": "https://localhost:8080/",
          "height": 281
        },
        "id": "pooe_JV3bk4l",
        "outputId": "a8448655-be1c-42f0-d6ae-7bcb11ed0eac"
      },
      "execution_count": 83,
      "outputs": [
        {
          "output_type": "display_data",
          "data": {
            "image/png": "[encoded data removed]",
            "text/plain": [
              "<Figure size 432x288 with 1 Axes>"
            ]
          },
          "metadata": {
            "needs_background": "light"
          }
        }
      ]
    },
    {
      "cell_type": "code",
      "source": [
        "df3=scaler.inverse_transform(df1).tolist()\n",
        "df3.extend(scaler.inverse_transform(lst_output))\n",
        "plt.plot(df3)\n",
        "plt.title('predicted stock prices')\n",
        "plt.savefig('predicted_stockprices_complete')"
      ],
      "metadata": {
        "colab": {
          "base_uri": "https://localhost:8080/",
          "height": 281
        },
        "id": "fYp-CcY0bk9n",
        "outputId": "3a0a592c-2ad8-4bbb-b127-eb87029f03b5"
      },
      "execution_count": 84,
      "outputs": [
        {
          "output_type": "display_data",
          "data": {
            "image/png": "[encoded data removed]",
            "text/plain": [
              "<Figure size 432x288 with 1 Axes>"
            ]
          },
          "metadata": {
            "needs_background": "light"
          }
        }
      ]
    },
    {
      "cell_type": "code",
      "source": [
        "plt.plot(df3[1200:])"
      ],
      "metadata": {
        "colab": {
          "base_uri": "https://localhost:8080/",
          "height": 282
        },
        "id": "U5mBUjDOblFY",
        "outputId": "c6ec86a1-2d91-494c-e0c4-998b4757517b"
      },
      "execution_count": 72,
      "outputs": [
        {
          "output_type": "execute_result",
          "data": {
            "text/plain": [
              "[<matplotlib.lines.Line2D at 0x7fa653e60550>]"
            ]
          },
          "metadata": {},
          "execution_count": 72
        },
        {
          "output_type": "display_data",
          "data": {
            "image/png": "[encoded data removed]",
            "text/plain": [
              "<Figure size 432x288 with 1 Axes>"
            ]
          },
          "metadata": {
            "needs_background": "light"
          }
        }
      ]
    }
  ]
}